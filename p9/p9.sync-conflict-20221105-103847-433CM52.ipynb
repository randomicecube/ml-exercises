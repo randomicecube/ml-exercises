{
 "cells": [
  {
   "cell_type": "markdown",
   "metadata": {},
   "source": [
    "# 1)"
   ]
  },
  {
   "cell_type": "code",
   "execution_count": 66,
   "metadata": {},
   "outputs": [],
   "source": [
    "import numpy as np\n",
    "from varname import nameof\n",
    "\n",
    "# adapted from stack overflow\n",
    "def bmatrix(a, var_name, exercise=1):\n",
    "    \"\"\"Stores in a file a LaTeX bmatrix from a numpy array.\"\"\"\n",
    "    if len(a.shape) > 2:\n",
    "        raise ValueError('bmatrix can at most display two dimensions')\n",
    "    lines = str(a).replace('[', '').replace(']', '').splitlines()\n",
    "    rv = [r'\\begin{bmatrix}']\n",
    "    rv += ['  ' + ' & '.join([f\"{float(x):.6g}\" for x in l.split()]) + r'\\\\' for l in lines]\n",
    "    rv +=  [r'\\end{bmatrix}']\n",
    "    with open(f\"./aux-matrices/ex-{exercise}/{var_name}.tex\", 'w+') as f:\n",
    "      f.write('\\n'.join(rv))"
   ]
  },
  {
   "cell_type": "code",
   "execution_count": 67,
   "metadata": {},
   "outputs": [],
   "source": [
    "mu_1 = np.array([2, 0]).reshape(-1, 1)\n",
    "mu_2 = np.array([2, 1]).reshape(-1, 1)\n",
    "\n",
    "bmatrix(mu_1, nameof(mu_1))\n",
    "bmatrix(mu_2, nameof(mu_2))"
   ]
  },
  {
   "cell_type": "code",
   "execution_count": 68,
   "metadata": {},
   "outputs": [],
   "source": [
    "SAMPLES = [x.reshape(-1, 1) for x in np.array([[0, 0], [1, 0], [0, 2], [2, 2]])]\n",
    "[x_1, x_2, x_3, x_4] = SAMPLES\n",
    "\n",
    "bmatrix(x_1, nameof(x_1))\n",
    "bmatrix(x_2, nameof(x_2))\n",
    "bmatrix(x_3, nameof(x_3))\n",
    "bmatrix(x_4, nameof(x_4))"
   ]
  },
  {
   "cell_type": "code",
   "execution_count": 69,
   "metadata": {},
   "outputs": [
    {
     "name": "stdout",
     "output_type": "stream",
     "text": [
      "mu_1_distances: ['4', '1', '8', '4']\n",
      "mu_2_distances: ['5', '2', '5', '1']\n",
      "mu_1_assignments: [array([[0],\n",
      "       [0]]), array([[1],\n",
      "       [0]])]\n",
      "mu_2_assignments: [array([[0],\n",
      "       [2]]), array([[2],\n",
      "       [2]])]\n",
      "new_mu_1: [[0.5]\n",
      " [0. ]]\n",
      "new_mu_2: [[1.]\n",
      " [2.]]\n",
      "mu_1_distances: ['0.25', '0.25', '4.25', '6.25']\n",
      "mu_2_distances: ['5', '4', '1', '1']\n",
      "mu_1_assignments: [array([[0],\n",
      "       [0]]), array([[1],\n",
      "       [0]])]\n",
      "mu_2_assignments: [array([[0],\n",
      "       [2]]), array([[2],\n",
      "       [2]])]\n",
      "new_mu_1: [[0.5]\n",
      " [0. ]]\n",
      "new_mu_2: [[1.]\n",
      " [2.]]\n"
     ]
    }
   ],
   "source": [
    "def update_mu(samples, mu_1, mu_2, mu_3=None):\n",
    "  mu_1_distances = [np.linalg.norm(x - mu_1)**2 for x in samples]\n",
    "  mu_2_distances = [np.linalg.norm(x - mu_2)**2 for x in samples]\n",
    "  print(f\"mu_1_distances: {['{:.4g}'.format(d) for d in mu_1_distances]}\")\n",
    "  print(f\"mu_2_distances: {['{:.4g}'.format(d) for d in mu_2_distances]}\")\n",
    "  if mu_3 is not None:\n",
    "    mu_3_distances = [np.linalg.norm(x - mu_3)**2 for x in samples]\n",
    "    print(f\"mu_3_distances: {['{:.4g}'.format(d) for d in mu_3_distances]}\")\n",
    "  mu_1_assignments, mu_2_assignments, mu_3_assignments = [], [], []\n",
    "  for i in range(len(samples)):\n",
    "    if mu_3 is not None:\n",
    "      assignment = np.argmin([mu_1_distances[i], mu_2_distances[i], mu_3_distances[i]])\n",
    "    else:\n",
    "      assignment = np.argmin([mu_1_distances[i], mu_2_distances[i]])\n",
    "    eval(f\"mu_{assignment + 1}_assignments\").append(samples[i])\n",
    "  print(f\"mu_1_assignments: {mu_1_assignments}\")\n",
    "  print(f\"mu_2_assignments: {mu_2_assignments}\")\n",
    "  if mu_3 is not None:\n",
    "    print(f\"mu_3_assignments: {mu_3_assignments}\")\n",
    "\n",
    "  # Then, update the centroids\n",
    "  new_mu_1 = np.mean([x for x in mu_1_assignments], axis=0)\n",
    "  new_mu_2 = np.mean([x for x in mu_2_assignments], axis=0)\n",
    "  print(f\"new_mu_1: {new_mu_1}\")\n",
    "  print(f\"new_mu_2: {new_mu_2}\")\n",
    "  if mu_3 is not None:\n",
    "    new_mu_3 = np.mean([x for x in mu_3_assignments], axis=0)\n",
    "    print(f\"new_mu_3: {new_mu_3}\")\n",
    "\n",
    "  return (new_mu_1, new_mu_2) if mu_3 is None else (new_mu_1, new_mu_2, new_mu_3)\n",
    "\n",
    "changed = True\n",
    "i = 1\n",
    "while changed:\n",
    "  changed = not changed\n",
    "  # set new variables new_mu_1_i and new_mu_2_i\n",
    "  exec(f\"new_mu_1_{i}, new_mu_2_{i} = update_mu(SAMPLES, mu_1, mu_2)\")\n",
    "  bmatrix(eval(f\"new_mu_1_{i}\"), f\"new_mu_1_{i}\")\n",
    "  bmatrix(eval(f\"new_mu_2_{i}\"), f\"new_mu_2_{i}\")\n",
    "  if not np.array_equal(eval(f\"new_mu_1_{i}\"), mu_1) or not np.array_equal(eval(f\"new_mu_2_{i}\"), mu_2):\n",
    "    changed = True\n",
    "  mu_1, mu_2 = eval(f\"new_mu_1_{i}\"), eval(f\"new_mu_2_{i}\")\n",
    "  i += 1"
   ]
  },
  {
   "cell_type": "code",
   "execution_count": 70,
   "metadata": {},
   "outputs": [
    {
     "data": {
      "image/png": "[encoded data removed]",
      "text/plain": [
       "<Figure size 1000x1000 with 1 Axes>"
      ]
     },
     "metadata": {},
     "output_type": "display_data"
    }
   ],
   "source": [
    "import matplotlib.pyplot as plt\n",
    "import matplotlib.patches as patches\n",
    "import seaborn as sns\n",
    "\n",
    "sns.set_style(\"whitegrid\")\n",
    "sns.set_context(\"talk\")\n",
    "\n",
    "fig, ax = plt.subplots(figsize=(10, 10))\n",
    "ax.set_xlim(-1, 4)\n",
    "ax.set_ylim(-1, 4)\n",
    "\n",
    "# Plot centroids\n",
    "ax.scatter(mu_1[0], mu_1[1], s=200, c='red', marker='x')\n",
    "ax.scatter(mu_2[0], mu_2[1], s=200, c='blue', marker='x')\n",
    "\n",
    "# Plot sample assignments\n",
    "for x in SAMPLES:\n",
    "  if np.linalg.norm(x - mu_1)**2 < np.linalg.norm(x - mu_2)**2:\n",
    "    ax.scatter(x[0], x[1], s=100, c='red')\n",
    "  else:\n",
    "    ax.scatter(x[0], x[1], s=100, c='blue')\n",
    "\n",
    "# Plot lines from each sample to its centroid\n",
    "for x in SAMPLES:\n",
    "  if np.linalg.norm(x - mu_1)**2 < np.linalg.norm(x - mu_2)**2:\n",
    "    ax.plot([x[0], mu_1[0]], [x[1], mu_1[1]], linestyle='--', color='red')\n",
    "  else:\n",
    "    ax.plot([x[0], mu_2[0]], [x[1], mu_2[1]], linestyle='--', color='blue')\n",
    "\n",
    "plt.savefig(\"./assets/k-means-clusters.png\")"
   ]
  },
  {
   "cell_type": "code",
   "execution_count": 71,
   "metadata": {},
   "outputs": [
    {
     "name": "stdout",
     "output_type": "stream",
     "text": [
      "a: ['1', '1', '2', '2']\n",
      "b: ['2.414', '2.236', '2.118', '2.532']\n",
      "silhouette: ['0.5858', '0.5528', '0.0557', '0.2102']\n",
      "s_k_1: 0.5692864210634736\n",
      "s_k_2: 0.13295794683615367\n"
     ]
    }
   ],
   "source": [
    "# calculate silhouete for each sample:\n",
    "\n",
    "def silhouette(samples, mu_1, mu_2):\n",
    "  mu_1_distances = [np.linalg.norm(x - mu_1)**2 for x in samples]\n",
    "  mu_2_distances = [np.linalg.norm(x - mu_2)**2 for x in samples]\n",
    "  mu_1_assignments, mu_2_assignments = [], []\n",
    "  for i in range(len(samples)):\n",
    "    if mu_1_distances[i] < mu_2_distances[i]:\n",
    "      mu_1_assignments.append(samples[i])\n",
    "    else:\n",
    "      mu_2_assignments.append(samples[i])\n",
    "  \n",
    "  a, b = [], []\n",
    "  for x in samples:\n",
    "    if any(np.array_equal(x, y) for y in mu_1_assignments):\n",
    "      a_num = np.sum([np.linalg.norm(x - x_i) for x_i in mu_1_assignments])\n",
    "      a_den = len(mu_1_assignments) - 1\n",
    "      b_num = np.sum([np.linalg.norm(x - x_i) for x_i in mu_2_assignments])\n",
    "      b_den = len(mu_2_assignments)\n",
    "    else:\n",
    "      a_num = np.sum([np.linalg.norm(x - x_i) for x_i in mu_2_assignments])\n",
    "      a_den = len(mu_2_assignments) - 1\n",
    "      b_num = np.sum([np.linalg.norm(x - x_i) for x_i in mu_1_assignments])\n",
    "      b_den = len(mu_1_assignments)\n",
    "    a.append(a_num / a_den)\n",
    "    b.append(b_num / b_den)\n",
    "\n",
    "  print(f\"a: {['{:.4g}'.format(d) for d in a]}\")\n",
    "  print(f\"b: {['{:.4g}'.format(d) for d in b]}\")\n",
    "  s = []\n",
    "  for i in range(len(samples)):\n",
    "    s.append((b[i] - a[i]) / max(a[i], b[i]))\n",
    "\n",
    "  return s\n",
    "\n",
    "s = silhouette(SAMPLES, mu_1, mu_2)\n",
    "\n",
    "print(f\"silhouette: {['{:.4f}'.format(s_i) for s_i in s]}\")\n",
    "\n",
    "# calculate the average silhouette for the cluster assignments:\n",
    "\n",
    "s_k_1 = np.mean([s[i] for i in range(len(SAMPLES)) if np.linalg.norm(SAMPLES[i] - mu_1)**2 < np.linalg.norm(SAMPLES[i] - mu_2)**2])\n",
    "s_k_2 = np.mean([s[i] for i in range(len(SAMPLES)) if np.linalg.norm(SAMPLES[i] - mu_1)**2 > np.linalg.norm(SAMPLES[i] - mu_2)**2])\n",
    "\n",
    "print(f\"s_k_1: {s_k_1}\")\n",
    "print(f\"s_k_2: {s_k_2}\")"
   ]
  },
  {
   "cell_type": "markdown",
   "metadata": {},
   "source": [
    "# 2)"
   ]
  },
  {
   "cell_type": "code",
   "execution_count": 72,
   "metadata": {},
   "outputs": [],
   "source": [
    "SAMPLES = [x.reshape(-1, 1) for x in np.array([[1, 0, 0], [8, 8, 4], [3, 3, 0], [0, 0, 1], [0, 1, 0], [3, 2, 1]])]\n",
    "[x_1, x_2, x_3, x_4, x_5, x_6] = SAMPLES\n",
    "\n",
    "bmatrix(x_1, nameof(x_1))\n",
    "bmatrix(x_2, nameof(x_2))\n",
    "bmatrix(x_3, nameof(x_3))\n",
    "bmatrix(x_4, nameof(x_4))\n",
    "bmatrix(x_5, nameof(x_5))\n",
    "bmatrix(x_6, nameof(x_6))"
   ]
  },
  {
   "cell_type": "markdown",
   "metadata": {},
   "source": [
    "for k = 2:"
   ]
  },
  {
   "cell_type": "code",
   "execution_count": 73,
   "metadata": {},
   "outputs": [
    {
     "name": "stdout",
     "output_type": "stream",
     "text": [
      "mu_1_distances: ['0', '129', '13', '2', '2', '9']\n",
      "mu_2_distances: ['129', '0', '66', '137', '129', '70']\n",
      "mu_1_assignments: [array([[1],\n",
      "       [0],\n",
      "       [0]]), array([[3],\n",
      "       [3],\n",
      "       [0]]), array([[0],\n",
      "       [0],\n",
      "       [1]]), array([[0],\n",
      "       [1],\n",
      "       [0]]), array([[3],\n",
      "       [2],\n",
      "       [1]])]\n",
      "mu_2_assignments: [array([[8],\n",
      "       [8],\n",
      "       [4]])]\n",
      "new_mu_1: [[1.4]\n",
      " [1.2]\n",
      " [0.4]]\n",
      "new_mu_2: [[8.]\n",
      " [8.]\n",
      " [4.]]\n",
      "mu_1_distances: ['1.76', '102.8', '5.96', '3.76', '2.16', '3.56']\n",
      "mu_2_distances: ['129', '0', '66', '137', '129', '70']\n",
      "mu_1_assignments: [array([[1],\n",
      "       [0],\n",
      "       [0]]), array([[3],\n",
      "       [3],\n",
      "       [0]]), array([[0],\n",
      "       [0],\n",
      "       [1]]), array([[0],\n",
      "       [1],\n",
      "       [0]]), array([[3],\n",
      "       [2],\n",
      "       [1]])]\n",
      "mu_2_assignments: [array([[8],\n",
      "       [8],\n",
      "       [4]])]\n",
      "new_mu_1: [[1.4]\n",
      " [1.2]\n",
      " [0.4]]\n",
      "new_mu_2: [[8.]\n",
      " [8.]\n",
      " [4.]]\n",
      "mu_1_2: [[1.4]\n",
      " [1.2]\n",
      " [0.4]]\n",
      "mu_2_2: [[8.]\n",
      " [8.]\n",
      " [4.]]\n"
     ]
    }
   ],
   "source": [
    "mu_1_2, mu_2_2 = x_1, x_2\n",
    "\n",
    "changed = True\n",
    "while changed:\n",
    "  changed = not changed\n",
    "  new_mu_1_2, new_mu_2_2 = update_mu(SAMPLES, mu_1_2, mu_2_2)\n",
    "  if not np.array_equal(new_mu_1_2, mu_1_2) or not np.array_equal(new_mu_2_2, mu_2_2):\n",
    "    changed = True\n",
    "    mu_1_2, mu_2_2 = new_mu_1_2, new_mu_2_2\n",
    "\n",
    "print(f\"mu_1_2: {mu_1_2}\")\n",
    "print(f\"mu_2_2: {mu_2_2}\")\n",
    "\n",
    "bmatrix(mu_1_2, nameof(mu_1_2), exercise=2)\n",
    "bmatrix(mu_2_2, nameof(mu_2_2), exercise=2)"
   ]
  },
  {
   "cell_type": "markdown",
   "metadata": {},
   "source": [
    "for k = 3"
   ]
  },
  {
   "cell_type": "code",
   "execution_count": 74,
   "metadata": {},
   "outputs": [
    {
     "name": "stdout",
     "output_type": "stream",
     "text": [
      "mu_1_distances: ['0', '129', '13', '2', '2', '9']\n",
      "mu_2_distances: ['129', '0', '66', '137', '129', '70']\n",
      "mu_3_distances: ['13', '66', '0', '19', '13', '2']\n",
      "mu_1_assignments: [array([[1],\n",
      "       [0],\n",
      "       [0]]), array([[0],\n",
      "       [0],\n",
      "       [1]]), array([[0],\n",
      "       [1],\n",
      "       [0]])]\n",
      "mu_2_assignments: [array([[8],\n",
      "       [8],\n",
      "       [4]])]\n",
      "mu_3_assignments: [array([[3],\n",
      "       [3],\n",
      "       [0]]), array([[3],\n",
      "       [2],\n",
      "       [1]])]\n",
      "new_mu_1: [[0.33333333]\n",
      " [0.33333333]\n",
      " [0.33333333]]\n",
      "new_mu_2: [[8.]\n",
      " [8.]\n",
      " [4.]]\n",
      "new_mu_3: [[3. ]\n",
      " [2.5]\n",
      " [0.5]]\n",
      "mu_1_distances: ['0.6667', '131', '14.33', '0.6667', '0.6667', '10.33']\n",
      "mu_2_distances: ['129', '0', '66', '137', '129', '70']\n",
      "mu_3_distances: ['10.5', '67.5', '0.5', '15.5', '11.5', '0.5']\n",
      "mu_1_assignments: [array([[1],\n",
      "       [0],\n",
      "       [0]]), array([[0],\n",
      "       [0],\n",
      "       [1]]), array([[0],\n",
      "       [1],\n",
      "       [0]])]\n",
      "mu_2_assignments: [array([[8],\n",
      "       [8],\n",
      "       [4]])]\n",
      "mu_3_assignments: [array([[3],\n",
      "       [3],\n",
      "       [0]]), array([[3],\n",
      "       [2],\n",
      "       [1]])]\n",
      "new_mu_1: [[0.33333333]\n",
      " [0.33333333]\n",
      " [0.33333333]]\n",
      "new_mu_2: [[8.]\n",
      " [8.]\n",
      " [4.]]\n",
      "new_mu_3: [[3. ]\n",
      " [2.5]\n",
      " [0.5]]\n",
      "mu_1_3: [[0.33333333]\n",
      " [0.33333333]\n",
      " [0.33333333]]\n",
      "mu_2_3: [[8.]\n",
      " [8.]\n",
      " [4.]]\n",
      "mu_3_3: [[3. ]\n",
      " [2.5]\n",
      " [0.5]]\n"
     ]
    }
   ],
   "source": [
    "mu_1_3, mu_2_3, mu_3_3 = x_1, x_2, x_3\n",
    "\n",
    "changed = True\n",
    "while changed:\n",
    "  changed = not changed\n",
    "  new_mu_1_3, new_mu_2_3, new_mu_3_3 = update_mu(SAMPLES, mu_1_3, mu_2_3, mu_3_3)\n",
    "  if not np.array_equal(new_mu_1_3, mu_1_3) or not np.array_equal(new_mu_2_3, mu_2_3) or not np.array_equal(new_mu_3_3, mu_3_3):\n",
    "    changed = True\n",
    "    mu_1_3, mu_2_3, mu_3_3 = new_mu_1_3, new_mu_2_3, new_mu_3_3\n",
    "\n",
    "print(f\"mu_1_3: {mu_1_3}\")\n",
    "print(f\"mu_2_3: {mu_2_3}\")\n",
    "print(f\"mu_3_3: {mu_3_3}\")\n",
    "\n",
    "bmatrix(mu_1_3, nameof(mu_1_3), exercise=2)\n",
    "bmatrix(mu_2_3, nameof(mu_2_3), exercise=2)\n",
    "bmatrix(mu_3_3, nameof(mu_3_3), exercise=2)"
   ]
  },
  {
   "cell_type": "code",
   "execution_count": 75,
   "metadata": {},
   "outputs": [
    {
     "name": "stdout",
     "output_type": "stream",
     "text": [
      "c_k_2: 17.200000000000003\n",
      "c_k_3: 3.0\n"
     ]
    }
   ],
   "source": [
    "# calculate cohesion for both cluster assignments:\n",
    "\n",
    "def cohesion(samples, mu_1, mu_2, mu_3=None):\n",
    "  mu_1_distances = [np.linalg.norm(x - mu_1) for x in samples]\n",
    "  mu_2_distances = [np.linalg.norm(x - mu_2) for x in samples]\n",
    "  if mu_3 is not None:\n",
    "    mu_3_distances = [np.linalg.norm(x - mu_3) for x in samples]\n",
    "  mu_1_assignments, mu_2_assignments, mu_3_assignments = [], [], []\n",
    "  for i in range(len(samples)):\n",
    "    if mu_3 is None:\n",
    "      assignment = np.argmin([mu_1_distances[i], mu_2_distances[i]])\n",
    "    else:\n",
    "      assignment = np.argmin([mu_1_distances[i], mu_2_distances[i], mu_3_distances[i]])\n",
    "    eval(f\"mu_{assignment + 1}_assignments\").append(samples[i])\n",
    "\n",
    "  if mu_3 is None:\n",
    "    return np.sum([np.linalg.norm(x - mu_1)**2 for x in mu_1_assignments]) + np.sum([np.linalg.norm(x - mu_2)**2 for x in mu_2_assignments])\n",
    "  return np.sum([np.linalg.norm(x - mu_1)**2 for x in mu_1_assignments]) + np.sum([np.linalg.norm(x - mu_2)**2 for x in mu_2_assignments]) + np.sum([np.linalg.norm(x - mu_3)**2 for x in mu_3_assignments])\n",
    "\n",
    "c_k_2 = cohesion(SAMPLES, mu_1_2, mu_2_2)\n",
    "print(f\"c_k_2: {c_k_2}\")\n",
    "\n",
    "c_k_3 = cohesion(SAMPLES, mu_1_3, mu_2_3, mu_3_3)\n",
    "print(f\"c_k_3: {c_k_3}\")"
   ]
  },
  {
   "cell_type": "code",
   "execution_count": 76,
   "metadata": {},
   "outputs": [
    {
     "name": "stdout",
     "output_type": "stream",
     "text": [
      "s_k_2: 51.379999999999995\n",
      "s_k_3: 46.74074074074074\n"
     ]
    }
   ],
   "source": [
    "# calculate separation for both cluster assignments:\n",
    "\n",
    "def separation(mu_arr):\n",
    "  return np.sum([np.linalg.norm(mu - mu2)**2 for mu in mu_arr for mu2 in mu_arr]) / len(mu_arr)**2\n",
    "\n",
    "s_k_2 = separation([mu_1_2, mu_2_2])\n",
    "print(f\"s_k_2: {s_k_2}\")\n",
    "\n",
    "s_k_3 = separation([mu_1_3, mu_2_3, mu_3_3])\n",
    "print(f\"s_k_3: {s_k_3}\")"
   ]
  }
 ],
 "metadata": {
  "kernelspec": {
   "display_name": "Python 3.10.8 64-bit",
   "language": "python",
   "name": "python3"
  },
  "language_info": {
   "codemirror_mode": {
    "name": "ipython",
    "version": 3
   },
   "file_extension": ".py",
   "mimetype": "text/x-python",
   "name": "python",
   "nbconvert_exporter": "python",
   "pygments_lexer": "ipython3",
   "version": "3.10.8"
  },
  "orig_nbformat": 4,
  "vscode": {
   "interpreter": {
    "hash": "e7370f93d1d0cde622a1f8e1c04877d8463912d04d973331ad4851f04de6915a"
   }
  }
 },
 "nbformat": 4,
 "nbformat_minor": 2
}
