{
 "cells": [
  {
   "cell_type": "markdown",
   "metadata": {},
   "source": [
    "# 1)"
   ]
  },
  {
   "cell_type": "code",
   "execution_count": 186,
   "metadata": {},
   "outputs": [],
   "source": [
    "import numpy as np\n",
    "from varname import nameof\n",
    "\n",
    "# adapted from stack overflow\n",
    "def bmatrix(a, var_name, exercise=1):\n",
    "    \"\"\"Stores in a file a LaTeX bmatrix from a numpy array.\"\"\"\n",
    "    if len(a.shape) > 2:\n",
    "        raise ValueError('bmatrix can at most display two dimensions')\n",
    "    lines = str(a).replace('[', '').replace(']', '').splitlines()\n",
    "    rv = [r'\\begin{bmatrix}']\n",
    "    rv += ['  ' + ' & '.join([f\"{float(x):.6g}\" for x in l.split()]) + r'\\\\' for l in lines]\n",
    "    rv +=  [r'\\end{bmatrix}']\n",
    "    with open(f\"./aux-matrices/ex-{exercise}/{var_name}.tex\", 'w+') as f:\n",
    "      f.write('\\n'.join(rv))"
   ]
  },
  {
   "cell_type": "code",
   "execution_count": 187,
   "metadata": {},
   "outputs": [],
   "source": [
    "mu_1 = np.array([2, 0]).reshape(-1, 1)\n",
    "mu_2 = np.array([2, 1]).reshape(-1, 1)\n",
    "\n",
    "bmatrix(mu_1, nameof(mu_1))\n",
    "bmatrix(mu_2, nameof(mu_2))"
   ]
  },
  {
   "cell_type": "code",
   "execution_count": 188,
   "metadata": {},
   "outputs": [],
   "source": [
    "SAMPLES = [x.reshape(-1, 1) for x in np.array([[0, 0], [1, 0], [0, 2], [2, 2]])]\n",
    "[x_1, x_2, x_3, x_4] = SAMPLES\n",
    "\n",
    "bmatrix(x_1, nameof(x_1))\n",
    "bmatrix(x_2, nameof(x_2))\n",
    "bmatrix(x_3, nameof(x_3))\n",
    "bmatrix(x_4, nameof(x_4))"
   ]
  },
  {
   "cell_type": "code",
   "execution_count": 189,
   "metadata": {},
   "outputs": [
    {
     "name": "stdout",
     "output_type": "stream",
     "text": [
      "mu_1_distances: ['4', '1', '8', '4']\n",
      "mu_2_distances: ['5', '2', '5', '1']\n",
      "mu_1_assignments: [array([[0],\n",
      "       [0]]), array([[1],\n",
      "       [0]])]\n",
      "mu_2_assignments: [array([[0],\n",
      "       [2]]), array([[2],\n",
      "       [2]])]\n",
      "new_mu_1: [[0.5]\n",
      " [0. ]]\n",
      "new_mu_2: [[1.]\n",
      " [2.]]\n",
      "mu_1_distances: ['0.25', '0.25', '4.25', '6.25']\n",
      "mu_2_distances: ['5', '4', '1', '1']\n",
      "mu_1_assignments: [array([[0],\n",
      "       [0]]), array([[1],\n",
      "       [0]])]\n",
      "mu_2_assignments: [array([[0],\n",
      "       [2]]), array([[2],\n",
      "       [2]])]\n",
      "new_mu_1: [[0.5]\n",
      " [0. ]]\n",
      "new_mu_2: [[1.]\n",
      " [2.]]\n"
     ]
    }
   ],
   "source": [
    "def update_mu(samples, mu_1, mu_2, mu_3=None):\n",
    "  mu_1_distances = [np.linalg.norm(x - mu_1)**2 for x in samples]\n",
    "  mu_2_distances = [np.linalg.norm(x - mu_2)**2 for x in samples]\n",
    "  print(f\"mu_1_distances: {['{:.4g}'.format(d) for d in mu_1_distances]}\")\n",
    "  print(f\"mu_2_distances: {['{:.4g}'.format(d) for d in mu_2_distances]}\")\n",
    "  if mu_3 is not None:\n",
    "    mu_3_distances = [np.linalg.norm(x - mu_3)**2 for x in samples]\n",
    "    print(f\"mu_3_distances: {['{:.4g}'.format(d) for d in mu_3_distances]}\")\n",
    "  mu_1_assignments, mu_2_assignments, mu_3_assignments = [], [], []\n",
    "  for i in range(len(samples)):\n",
    "    if mu_3 is not None:\n",
    "      assignment = np.argmin([mu_1_distances[i], mu_2_distances[i], mu_3_distances[i]])\n",
    "    else:\n",
    "      assignment = np.argmin([mu_1_distances[i], mu_2_distances[i]])\n",
    "    eval(f\"mu_{assignment + 1}_assignments\").append(samples[i])\n",
    "  print(f\"mu_1_assignments: {mu_1_assignments}\")\n",
    "  print(f\"mu_2_assignments: {mu_2_assignments}\")\n",
    "  if mu_3 is not None:\n",
    "    print(f\"mu_3_assignments: {mu_3_assignments}\")\n",
    "\n",
    "  # Then, update the centroids\n",
    "  new_mu_1 = np.mean([x for x in mu_1_assignments], axis=0)\n",
    "  new_mu_2 = np.mean([x for x in mu_2_assignments], axis=0)\n",
    "  print(f\"new_mu_1: {new_mu_1}\")\n",
    "  print(f\"new_mu_2: {new_mu_2}\")\n",
    "  if mu_3 is not None:\n",
    "    new_mu_3 = np.mean([x for x in mu_3_assignments], axis=0)\n",
    "    print(f\"new_mu_3: {new_mu_3}\")\n",
    "\n",
    "  return (new_mu_1, new_mu_2) if mu_3 is None else (new_mu_1, new_mu_2, new_mu_3)\n",
    "\n",
    "changed = True\n",
    "i = 1\n",
    "while changed:\n",
    "  changed = not changed\n",
    "  # set new variables new_mu_1_i and new_mu_2_i\n",
    "  exec(f\"new_mu_1_{i}, new_mu_2_{i} = update_mu(SAMPLES, mu_1, mu_2)\")\n",
    "  bmatrix(eval(f\"new_mu_1_{i}\"), f\"new_mu_1_{i}\")\n",
    "  bmatrix(eval(f\"new_mu_2_{i}\"), f\"new_mu_2_{i}\")\n",
    "  if not np.array_equal(eval(f\"new_mu_1_{i}\"), mu_1) or not np.array_equal(eval(f\"new_mu_2_{i}\"), mu_2):\n",
    "    changed = True\n",
    "  mu_1, mu_2 = eval(f\"new_mu_1_{i}\"), eval(f\"new_mu_2_{i}\")\n",
    "  i += 1"
   ]
  },
  {
   "cell_type": "code",
   "execution_count": 190,
   "metadata": {},
   "outputs": [
    {
     "data": {
      "image/png": "[encoded data removed]",
      "text/plain": [
       "<Figure size 1000x1000 with 1 Axes>"
      ]
     },
     "metadata": {},
     "output_type": "display_data"
    }
   ],
   "source": [
    "import matplotlib.pyplot as plt\n",
    "import matplotlib.patches as patches\n",
    "import seaborn as sns\n",
    "\n",
    "sns.set_style(\"whitegrid\")\n",
    "sns.set_context(\"talk\")\n",
    "\n",
    "fig, ax = plt.subplots(figsize=(10, 10))\n",
    "ax.set_xlim(-1, 4)\n",
    "ax.set_ylim(-1, 4)\n",
    "\n",
    "# Plot centroids\n",
    "ax.scatter(mu_1[0], mu_1[1], s=200, c='red', marker='x')\n",
    "ax.scatter(mu_2[0], mu_2[1], s=200, c='blue', marker='x')\n",
    "\n",
    "# Plot sample assignments\n",
    "for x in SAMPLES:\n",
    "  if np.linalg.norm(x - mu_1)**2 < np.linalg.norm(x - mu_2)**2:\n",
    "    ax.scatter(x[0], x[1], s=100, c='red')\n",
    "  else:\n",
    "    ax.scatter(x[0], x[1], s=100, c='blue')\n",
    "\n",
    "# Plot lines from each sample to its centroid\n",
    "for x in SAMPLES:\n",
    "  if np.linalg.norm(x - mu_1)**2 < np.linalg.norm(x - mu_2)**2:\n",
    "    ax.plot([x[0], mu_1[0]], [x[1], mu_1[1]], linestyle='--', color='red')\n",
    "  else:\n",
    "    ax.plot([x[0], mu_2[0]], [x[1], mu_2[1]], linestyle='--', color='blue')\n",
    "\n",
    "plt.savefig(\"./assets/k-means-clusters.png\")"
   ]
  },
  {
   "cell_type": "code",
   "execution_count": 191,
   "metadata": {},
   "outputs": [
    {
     "name": "stdout",
     "output_type": "stream",
     "text": [
      "a: ['1', '1', '2', '2']\n",
      "b: ['2.414', '2.236', '2.118', '2.532']\n",
      "silhouette: ['0.5858', '0.5528', '0.0557', '0.2102']\n",
      "s_k_1: 0.5692864210634736\n",
      "s_k_2: 0.13295794683615367\n"
     ]
    }
   ],
   "source": [
    "# calculate silhouete for each sample:\n",
    "\n",
    "def silhouette(samples, mu_1, mu_2):\n",
    "  mu_1_distances = [np.linalg.norm(x - mu_1)**2 for x in samples]\n",
    "  mu_2_distances = [np.linalg.norm(x - mu_2)**2 for x in samples]\n",
    "  mu_1_assignments, mu_2_assignments = [], []\n",
    "  for i in range(len(samples)):\n",
    "    if mu_1_distances[i] < mu_2_distances[i]:\n",
    "      mu_1_assignments.append(samples[i])\n",
    "    else:\n",
    "      mu_2_assignments.append(samples[i])\n",
    "  \n",
    "  a, b = [], []\n",
    "  for x in samples:\n",
    "    if any(np.array_equal(x, y) for y in mu_1_assignments):\n",
    "      a_num = np.sum([np.linalg.norm(x - x_i) for x_i in mu_1_assignments])\n",
    "      a_den = len(mu_1_assignments) - 1\n",
    "      b_num = np.sum([np.linalg.norm(x - x_i) for x_i in mu_2_assignments])\n",
    "      b_den = len(mu_2_assignments)\n",
    "    else:\n",
    "      a_num = np.sum([np.linalg.norm(x - x_i) for x_i in mu_2_assignments])\n",
    "      a_den = len(mu_2_assignments) - 1\n",
    "      b_num = np.sum([np.linalg.norm(x - x_i) for x_i in mu_1_assignments])\n",
    "      b_den = len(mu_1_assignments)\n",
    "    a.append(a_num / a_den)\n",
    "    b.append(b_num / b_den)\n",
    "\n",
    "  print(f\"a: {['{:.4g}'.format(d) for d in a]}\")\n",
    "  print(f\"b: {['{:.4g}'.format(d) for d in b]}\")\n",
    "  s = []\n",
    "  for i in range(len(samples)):\n",
    "    s.append((b[i] - a[i]) / max(a[i], b[i]))\n",
    "\n",
    "  return s\n",
    "\n",
    "s = silhouette(SAMPLES, mu_1, mu_2)\n",
    "\n",
    "print(f\"silhouette: {['{:.4f}'.format(s_i) for s_i in s]}\")\n",
    "\n",
    "# calculate the average silhouette for the cluster assignments:\n",
    "\n",
    "s_k_1 = np.mean([s[i] for i in range(len(SAMPLES)) if np.linalg.norm(SAMPLES[i] - mu_1)**2 < np.linalg.norm(SAMPLES[i] - mu_2)**2])\n",
    "s_k_2 = np.mean([s[i] for i in range(len(SAMPLES)) if np.linalg.norm(SAMPLES[i] - mu_1)**2 > np.linalg.norm(SAMPLES[i] - mu_2)**2])\n",
    "\n",
    "print(f\"s_k_1: {s_k_1}\")\n",
    "print(f\"s_k_2: {s_k_2}\")"
   ]
  },
  {
   "cell_type": "markdown",
   "metadata": {},
   "source": [
    "# 2)"
   ]
  },
  {
   "cell_type": "code",
   "execution_count": 192,
   "metadata": {},
   "outputs": [],
   "source": [
    "SAMPLES = [x.reshape(-1, 1) for x in np.array([[1, 0, 0], [8, 8, 4], [3, 3, 0], [0, 0, 1], [0, 1, 0], [3, 2, 1]])]\n",
    "[x_1, x_2, x_3, x_4, x_5, x_6] = SAMPLES\n",
    "\n",
    "bmatrix(x_1, nameof(x_1))\n",
    "bmatrix(x_2, nameof(x_2))\n",
    "bmatrix(x_3, nameof(x_3))\n",
    "bmatrix(x_4, nameof(x_4))\n",
    "bmatrix(x_5, nameof(x_5))\n",
    "bmatrix(x_6, nameof(x_6))"
   ]
  },
  {
   "cell_type": "markdown",
   "metadata": {},
   "source": [
    "for k = 2:"
   ]
  },
  {
   "cell_type": "code",
   "execution_count": 193,
   "metadata": {},
   "outputs": [
    {
     "name": "stdout",
     "output_type": "stream",
     "text": [
      "mu_1_distances: ['0', '129', '13', '2', '2', '9']\n",
      "mu_2_distances: ['129', '0', '66', '137', '129', '70']\n",
      "mu_1_assignments: [array([[1],\n",
      "       [0],\n",
      "       [0]]), array([[3],\n",
      "       [3],\n",
      "       [0]]), array([[0],\n",
      "       [0],\n",
      "       [1]]), array([[0],\n",
      "       [1],\n",
      "       [0]]), array([[3],\n",
      "       [2],\n",
      "       [1]])]\n",
      "mu_2_assignments: [array([[8],\n",
      "       [8],\n",
      "       [4]])]\n",
      "new_mu_1: [[1.4]\n",
      " [1.2]\n",
      " [0.4]]\n",
      "new_mu_2: [[8.]\n",
      " [8.]\n",
      " [4.]]\n",
      "mu_1_distances: ['1.76', '102.8', '5.96', '3.76', '2.16', '3.56']\n",
      "mu_2_distances: ['129', '0', '66', '137', '129', '70']\n",
      "mu_1_assignments: [array([[1],\n",
      "       [0],\n",
      "       [0]]), array([[3],\n",
      "       [3],\n",
      "       [0]]), array([[0],\n",
      "       [0],\n",
      "       [1]]), array([[0],\n",
      "       [1],\n",
      "       [0]]), array([[3],\n",
      "       [2],\n",
      "       [1]])]\n",
      "mu_2_assignments: [array([[8],\n",
      "       [8],\n",
      "       [4]])]\n",
      "new_mu_1: [[1.4]\n",
      " [1.2]\n",
      " [0.4]]\n",
      "new_mu_2: [[8.]\n",
      " [8.]\n",
      " [4.]]\n",
      "mu_1_2: [[1.4]\n",
      " [1.2]\n",
      " [0.4]]\n",
      "mu_2_2: [[8.]\n",
      " [8.]\n",
      " [4.]]\n"
     ]
    }
   ],
   "source": [
    "mu_1_2, mu_2_2 = x_1, x_2\n",
    "\n",
    "changed = True\n",
    "while changed:\n",
    "  changed = not changed\n",
    "  new_mu_1_2, new_mu_2_2 = update_mu(SAMPLES, mu_1_2, mu_2_2)\n",
    "  if not np.array_equal(new_mu_1_2, mu_1_2) or not np.array_equal(new_mu_2_2, mu_2_2):\n",
    "    changed = True\n",
    "    mu_1_2, mu_2_2 = new_mu_1_2, new_mu_2_2\n",
    "\n",
    "print(f\"mu_1_2: {mu_1_2}\")\n",
    "print(f\"mu_2_2: {mu_2_2}\")\n",
    "\n",
    "bmatrix(mu_1_2, nameof(mu_1_2), exercise=2)\n",
    "bmatrix(mu_2_2, nameof(mu_2_2), exercise=2)"
   ]
  },
  {
   "cell_type": "markdown",
   "metadata": {},
   "source": [
    "for k = 3"
   ]
  },
  {
   "cell_type": "code",
   "execution_count": 194,
   "metadata": {},
   "outputs": [
    {
     "name": "stdout",
     "output_type": "stream",
     "text": [
      "mu_1_distances: ['0', '129', '13', '2', '2', '9']\n",
      "mu_2_distances: ['129', '0', '66', '137', '129', '70']\n",
      "mu_3_distances: ['13', '66', '0', '19', '13', '2']\n",
      "mu_1_assignments: [array([[1],\n",
      "       [0],\n",
      "       [0]]), array([[0],\n",
      "       [0],\n",
      "       [1]]), array([[0],\n",
      "       [1],\n",
      "       [0]])]\n",
      "mu_2_assignments: [array([[8],\n",
      "       [8],\n",
      "       [4]])]\n",
      "mu_3_assignments: [array([[3],\n",
      "       [3],\n",
      "       [0]]), array([[3],\n",
      "       [2],\n",
      "       [1]])]\n",
      "new_mu_1: [[0.33333333]\n",
      " [0.33333333]\n",
      " [0.33333333]]\n",
      "new_mu_2: [[8.]\n",
      " [8.]\n",
      " [4.]]\n",
      "new_mu_3: [[3. ]\n",
      " [2.5]\n",
      " [0.5]]\n",
      "mu_1_distances: ['0.6667', '131', '14.33', '0.6667', '0.6667', '10.33']\n",
      "mu_2_distances: ['129', '0', '66', '137', '129', '70']\n",
      "mu_3_distances: ['10.5', '67.5', '0.5', '15.5', '11.5', '0.5']\n",
      "mu_1_assignments: [array([[1],\n",
      "       [0],\n",
      "       [0]]), array([[0],\n",
      "       [0],\n",
      "       [1]]), array([[0],\n",
      "       [1],\n",
      "       [0]])]\n",
      "mu_2_assignments: [array([[8],\n",
      "       [8],\n",
      "       [4]])]\n",
      "mu_3_assignments: [array([[3],\n",
      "       [3],\n",
      "       [0]]), array([[3],\n",
      "       [2],\n",
      "       [1]])]\n",
      "new_mu_1: [[0.33333333]\n",
      " [0.33333333]\n",
      " [0.33333333]]\n",
      "new_mu_2: [[8.]\n",
      " [8.]\n",
      " [4.]]\n",
      "new_mu_3: [[3. ]\n",
      " [2.5]\n",
      " [0.5]]\n",
      "mu_1_3: [[0.33333333]\n",
      " [0.33333333]\n",
      " [0.33333333]]\n",
      "mu_2_3: [[8.]\n",
      " [8.]\n",
      " [4.]]\n",
      "mu_3_3: [[3. ]\n",
      " [2.5]\n",
      " [0.5]]\n"
     ]
    }
   ],
   "source": [
    "mu_1_3, mu_2_3, mu_3_3 = x_1, x_2, x_3\n",
    "\n",
    "changed = True\n",
    "while changed:\n",
    "  changed = not changed\n",
    "  new_mu_1_3, new_mu_2_3, new_mu_3_3 = update_mu(SAMPLES, mu_1_3, mu_2_3, mu_3_3)\n",
    "  if not np.array_equal(new_mu_1_3, mu_1_3) or not np.array_equal(new_mu_2_3, mu_2_3) or not np.array_equal(new_mu_3_3, mu_3_3):\n",
    "    changed = True\n",
    "    mu_1_3, mu_2_3, mu_3_3 = new_mu_1_3, new_mu_2_3, new_mu_3_3\n",
    "\n",
    "print(f\"mu_1_3: {mu_1_3}\")\n",
    "print(f\"mu_2_3: {mu_2_3}\")\n",
    "print(f\"mu_3_3: {mu_3_3}\")\n",
    "\n",
    "bmatrix(mu_1_3, nameof(mu_1_3), exercise=2)\n",
    "bmatrix(mu_2_3, nameof(mu_2_3), exercise=2)\n",
    "bmatrix(mu_3_3, nameof(mu_3_3), exercise=2)"
   ]
  },
  {
   "cell_type": "code",
   "execution_count": 195,
   "metadata": {},
   "outputs": [
    {
     "name": "stdout",
     "output_type": "stream",
     "text": [
      "c_k_2: 17.200000000000003\n",
      "c_k_3: 3.0\n"
     ]
    }
   ],
   "source": [
    "# calculate cohesion for both cluster assignments:\n",
    "\n",
    "def cohesion(samples, mu_1, mu_2, mu_3=None):\n",
    "  mu_1_distances = [np.linalg.norm(x - mu_1) for x in samples]\n",
    "  mu_2_distances = [np.linalg.norm(x - mu_2) for x in samples]\n",
    "  if mu_3 is not None:\n",
    "    mu_3_distances = [np.linalg.norm(x - mu_3) for x in samples]\n",
    "  mu_1_assignments, mu_2_assignments, mu_3_assignments = [], [], []\n",
    "  for i in range(len(samples)):\n",
    "    if mu_3 is None:\n",
    "      assignment = np.argmin([mu_1_distances[i], mu_2_distances[i]])\n",
    "    else:\n",
    "      assignment = np.argmin([mu_1_distances[i], mu_2_distances[i], mu_3_distances[i]])\n",
    "    eval(f\"mu_{assignment + 1}_assignments\").append(samples[i])\n",
    "\n",
    "  if mu_3 is None:\n",
    "    return np.sum([np.linalg.norm(x - mu_1)**2 for x in mu_1_assignments]) + np.sum([np.linalg.norm(x - mu_2)**2 for x in mu_2_assignments])\n",
    "  return np.sum([np.linalg.norm(x - mu_1)**2 for x in mu_1_assignments]) + np.sum([np.linalg.norm(x - mu_2)**2 for x in mu_2_assignments]) + np.sum([np.linalg.norm(x - mu_3)**2 for x in mu_3_assignments])\n",
    "\n",
    "c_k_2 = cohesion(SAMPLES, mu_1_2, mu_2_2)\n",
    "print(f\"c_k_2: {c_k_2}\")\n",
    "\n",
    "c_k_3 = cohesion(SAMPLES, mu_1_3, mu_2_3, mu_3_3)\n",
    "print(f\"c_k_3: {c_k_3}\")"
   ]
  },
  {
   "cell_type": "code",
   "execution_count": 196,
   "metadata": {},
   "outputs": [
    {
     "name": "stdout",
     "output_type": "stream",
     "text": [
      "s_k_2: 51.379999999999995\n",
      "s_k_3: 46.74074074074074\n"
     ]
    }
   ],
   "source": [
    "# calculate separation for both cluster assignments:\n",
    "\n",
    "def separation(mu_arr):\n",
    "  return np.sum([np.linalg.norm(mu - mu2)**2 for mu in mu_arr for mu2 in mu_arr]) / len(mu_arr)**2\n",
    "\n",
    "s_k_2 = separation([mu_1_2, mu_2_2])\n",
    "print(f\"s_k_2: {s_k_2}\")\n",
    "\n",
    "s_k_3 = separation([mu_1_3, mu_2_3, mu_3_3])\n",
    "print(f\"s_k_3: {s_k_3}\")"
   ]
  },
  {
   "cell_type": "markdown",
   "metadata": {},
   "source": [
    "# 3)"
   ]
  },
  {
   "cell_type": "code",
   "execution_count": 197,
   "metadata": {},
   "outputs": [
    {
     "name": "stdout",
     "output_type": "stream",
     "text": [
      "l_1_k_1: 0.004432\n",
      "l_2_k_1: 0.242\n",
      "l_3_k_1: 0.3989\n",
      "l_1_k_2: 0.0001338\n",
      "l_2_k_2: 0.3989\n",
      "l_3_k_2: 0.242\n",
      "---\n",
      "post_1_x_1: 0.9707\n",
      "post_2_x_1: 0.02931\n",
      "post_1_x_2: 0.3775\n",
      "post_2_x_2: 0.6225\n",
      "post_1_x_3: 0.6225\n",
      "post_2_x_3: 0.3775\n"
     ]
    }
   ],
   "source": [
    "from statistics import NormalDist\n",
    "\n",
    "SAMPLES = [4, 0, 1]\n",
    "PRIORS = [0.5, 0.5]\n",
    "[p_k1, p_k2] = PRIORS\n",
    "mu_k_1, mu_k_2 = 1, 0\n",
    "sigma_k_1, sigma_k_2 = 1, 1\n",
    "\n",
    "def calc_likelihood(mu, sigma, x):\n",
    "  return NormalDist(mu, sigma).pdf(x)\n",
    "\n",
    "K_1_LIKELIHOODS = [calc_likelihood(mu_k_1, sigma_k_1, x) for x in SAMPLES]\n",
    "K_2_LIKELIHOODS = [calc_likelihood(mu_k_2, sigma_k_2, x) for x in SAMPLES]\n",
    "[l_1_k_1, l_2_k_1, l_3_k_1] = K_1_LIKELIHOODS\n",
    "[l_1_k_2, l_2_k_2, l_3_k_2] = K_2_LIKELIHOODS\n",
    "\n",
    "print(f\"l_1_k_1: {l_1_k_1:.4g}\")\n",
    "print(f\"l_2_k_1: {l_2_k_1:.4g}\")\n",
    "print(f\"l_3_k_1: {l_3_k_1:.4g}\")\n",
    "print(f\"l_1_k_2: {l_1_k_2:.4g}\")\n",
    "print(f\"l_2_k_2: {l_2_k_2:.4g}\")\n",
    "print(f\"l_3_k_2: {l_3_k_2:.4g}\")\n",
    "\n",
    "def calc_posterior(likelihoods, priors, l, p):\n",
    "  return l * p / np.sum([l * p for l, p in zip(likelihoods, priors)])\n",
    "\n",
    "likelihoods = []\n",
    "for i in range(len(SAMPLES)):\n",
    "  likelihoods.append([K_1_LIKELIHOODS[i], K_2_LIKELIHOODS[i]])\n",
    "\n",
    "x_1_posteriors = [calc_posterior(likelihoods[0], PRIORS, l, p) for l, p in zip(likelihoods[0], PRIORS)]\n",
    "x_2_posteriors = [calc_posterior(likelihoods[1], PRIORS, l, p) for l, p in zip(likelihoods[1], PRIORS)]\n",
    "x_3_posteriors = [calc_posterior(likelihoods[2], PRIORS, l, p) for l, p in zip(likelihoods[2], PRIORS)]\n",
    "\n",
    "[post_1_x_1, post_2_x_1] = x_1_posteriors\n",
    "[post_1_x_2, post_2_x_2] = x_2_posteriors\n",
    "[post_1_x_3, post_2_x_3] = x_3_posteriors\n",
    "\n",
    "print(\"---\")\n",
    "\n",
    "print(f\"post_1_x_1: {post_1_x_1:.4g}\")\n",
    "print(f\"post_2_x_1: {post_2_x_1:.4g}\")\n",
    "print(f\"post_1_x_2: {post_1_x_2:.4g}\")\n",
    "print(f\"post_2_x_2: {post_2_x_2:.4g}\")\n",
    "print(f\"post_1_x_3: {post_1_x_3:.4g}\")\n",
    "print(f\"post_2_x_3: {post_2_x_3:.4g}\")"
   ]
  },
  {
   "cell_type": "code",
   "execution_count": 198,
   "metadata": {},
   "outputs": [
    {
     "name": "stdout",
     "output_type": "stream",
     "text": [
      "---\n",
      "new_mu_k_1: 2.286\n",
      "new_mu_k_2: 0.4807\n",
      "new_sigma_k_1: 1.724\n",
      "new_sigma_k_2: 0.769\n",
      "new_p_k_1: 0.6569\n",
      "new_p_k_2: 0.3431\n"
     ]
    }
   ],
   "source": [
    "def update_means(posteriors, samples):\n",
    "  return np.sum([p * s for p, s in zip(posteriors, samples)]) / np.sum(posteriors)\n",
    "\n",
    "def update_sigma(posteriors, samples, means):\n",
    "  return np.sqrt(np.sum([p * (s - m)**2 for p, s, m in zip(posteriors, samples, means)]) / np.sum(posteriors))\n",
    "\n",
    "def update_priors(posteriors):\n",
    "  return np.sum(posteriors) / len(posteriors)\n",
    "\n",
    "new_mu_k_1 = update_means([post_1_x_1, post_1_x_2, post_1_x_3], SAMPLES)\n",
    "new_mu_k_2 = update_means([post_2_x_1, post_2_x_2, post_2_x_3], SAMPLES)\n",
    "\n",
    "new_sigma_k_1 = update_sigma([post_1_x_1, post_1_x_2, post_1_x_3], SAMPLES, [new_mu_k_1, new_mu_k_1, new_mu_k_1])\n",
    "new_sigma_k_2 = update_sigma([post_2_x_1, post_2_x_2, post_2_x_3], SAMPLES, [new_mu_k_2, new_mu_k_2, new_mu_k_2])\n",
    "\n",
    "new_p_k_1 = update_priors([post_1_x_1, post_1_x_2, post_1_x_3])\n",
    "new_p_k_2 = update_priors([post_2_x_1, post_2_x_2, post_2_x_3])\n",
    "\n",
    "print(\"---\")\n",
    "\n",
    "print(f\"new_mu_k_1: {new_mu_k_1:.4g}\")\n",
    "print(f\"new_mu_k_2: {new_mu_k_2:.4g}\")\n",
    "print(f\"new_sigma_k_1: {new_sigma_k_1:.4g}\")\n",
    "print(f\"new_sigma_k_2: {new_sigma_k_2:.4g}\")\n",
    "print(f\"new_p_k_1: {new_p_k_1:.4g}\")\n",
    "print(f\"new_p_k_2: {new_p_k_2:.4g}\")"
   ]
  },
  {
   "cell_type": "code",
   "execution_count": 199,
   "metadata": {},
   "outputs": [
    {
     "data": {
      "image/png": "[encoded data removed]",
      "text/plain": [
       "<Figure size 640x480 with 1 Axes>"
      ]
     },
     "metadata": {},
     "output_type": "display_data"
    }
   ],
   "source": [
    "# plot both k1 and k2 distributions + samples\n",
    "\n",
    "from scipy.stats import norm\n",
    "\n",
    "x = np.linspace(-5, 10, 1000)\n",
    "y_k_1 = norm.pdf(x, new_mu_k_1, new_sigma_k_1)\n",
    "y_k_2 = norm.pdf(x, new_mu_k_2, new_sigma_k_2)\n",
    "\n",
    "plt.plot(x, y_k_1, label=\"k_1\")\n",
    "plt.plot(x, y_k_2, label=\"k_2\")\n",
    "plt.scatter(SAMPLES, [0, 0, 0], label=\"samples\", color=\"red\", marker=\"x\")\n",
    "plt.legend()\n",
    "plt.savefig(\"assets/ex-3-plot.png\")"
   ]
  },
  {
   "cell_type": "markdown",
   "metadata": {},
   "source": [
    "# 4)"
   ]
  },
  {
   "cell_type": "code",
   "execution_count": 200,
   "metadata": {},
   "outputs": [],
   "source": [
    "SAMPLES = np.array([\n",
    "  [1, 0, 0, 0],\n",
    "  [0, 1, 1, 1],\n",
    "  [0, 1, 0, 1],\n",
    "  [0, 0, 1, 1],\n",
    "  [1, 1, 0, 0]\n",
    "])\n",
    "\n",
    "PRIORS = np.array([1/3, 1/3, 1/3])\n",
    "\n",
    "LIKELIHOOD_PRIORS_1 = np.array([\n",
    "  [0.8, 0.5, 0.1, 0.1],\n",
    "  [0.1, 0.5, 0.4, 0.8],\n",
    "  [0.1, 0.1, 0.9, 0.2]\n",
    "])\n",
    "\n",
    "# LIKELIHOOD_PRIORS_2 is basically picking each cell in LIKELIHOOD_PRIORS_1 and subtracting it from 1\n",
    "\n",
    "LIKELIHOOD_PRIORS_2 = np.array([[1 - l for l in row] for row in LIKELIHOOD_PRIORS_1])\n",
    "\n",
    "def calc_likelihoods(samples, likelihood_priors_0, likelihood_priors_1):\n",
    "  \"\"\"Our goal here is to calculate the likelihood for every single sample,\n",
    "  considering only a single cluster\"\"\"\n",
    "  likelihoods = []\n",
    "  for k in range(3):\n",
    "    cluster_likelihoods = []\n",
    "    for i in range(len(samples)):\n",
    "      cluster_likelihoods.append(\n",
    "        np.prod([\n",
    "          likelihood_priors_0[k][j] if samples[i][j] == 1 else likelihood_priors_1[k][j]\n",
    "          for j in range(len(samples[i]))\n",
    "        ])\n",
    "      )\n",
    "    likelihoods.append(cluster_likelihoods)\n",
    "  return likelihoods"
   ]
  },
  {
   "cell_type": "code",
   "execution_count": 201,
   "metadata": {},
   "outputs": [
    {
     "name": "stdout",
     "output_type": "stream",
     "text": [
      "---\n",
      "k_1_likelihoods: [0.32400000000000007, 0.0009999999999999998, 0.009, 0.0009999999999999998, 0.32400000000000007]\n",
      "k_2_likelihoods: [0.005999999999999998, 0.14400000000000002, 0.21600000000000003, 0.14400000000000002, 0.005999999999999998]\n",
      "k_3_likelihoods: [0.0072, 0.016200000000000003, 0.0018, 0.1458, 0.0008]\n",
      "k_1_posteriors[0]: 0.9609\n",
      "k_1_posteriors[1]: 0.006203\n",
      "k_1_posteriors[2]: 0.03968\n",
      "k_1_posteriors[3]: 0.003439\n",
      "k_1_posteriors[4]: 0.9794\n",
      "k_2_posteriors[0]: 0.01779\n",
      "k_2_posteriors[1]: 0.8933\n",
      "k_2_posteriors[2]: 0.9524\n",
      "k_2_posteriors[3]: 0.4952\n",
      "k_2_posteriors[4]: 0.01814\n",
      "k_3_posteriors[0]: 0.02135\n",
      "k_3_posteriors[1]: 0.1005\n",
      "k_3_posteriors[2]: 0.007937\n",
      "k_3_posteriors[3]: 0.5014\n",
      "k_3_posteriors[4]: 0.002418\n",
      "---\n",
      "posteriors: [[0.9608540925266904, 0.006203473945409428, 0.03968253968253967, 0.003438789546079779, 0.9794437726723095], [0.017793594306049813, 0.8933002481389578, 0.9523809523809523, 0.4951856946354883, 0.018137847642079798], [0.021352313167259784, 0.10049627791563276, 0.007936507936507934, 0.5013755158184319, 0.0024183796856106408]]\n"
     ]
    }
   ],
   "source": [
    "k_1_likelihoods, k_2_likelihoods, k_3_likelihoods = calc_likelihoods(SAMPLES, LIKELIHOOD_PRIORS_1, LIKELIHOOD_PRIORS_2)\n",
    "\n",
    "print(\"---\")\n",
    "\n",
    "print(f\"k_1_likelihoods: {k_1_likelihoods}\")\n",
    "print(f\"k_2_likelihoods: {k_2_likelihoods}\")\n",
    "print(f\"k_3_likelihoods: {k_3_likelihoods}\")\n",
    "\n",
    "posteriors = []\n",
    "\n",
    "for k in range(3):\n",
    "  cluster_posteriors = []\n",
    "  for s in range(len(SAMPLES)):\n",
    "    cluster_posteriors.append(calc_posterior(\n",
    "      [k_1_likelihoods[s], k_2_likelihoods[s], k_3_likelihoods[s]],\n",
    "      PRIORS,\n",
    "      eval(f\"k_{k+1}_likelihoods[{s}]\"),\n",
    "      PRIORS[k]\n",
    "    ))\n",
    "    print(f\"k_{k+1}_posteriors[{s}]: {cluster_posteriors[s]:.4g}\")\n",
    "  posteriors.append(cluster_posteriors)\n",
    "\n",
    "print(\"---\")\n",
    "\n",
    "print(f\"posteriors: {posteriors}\")"
   ]
  },
  {
   "cell_type": "code",
   "execution_count": 202,
   "metadata": {},
   "outputs": [
    {
     "name": "stdout",
     "output_type": "stream",
     "text": [
      "---\n",
      "new_likelihood_priors_feature_k1: [0.9752089660225056, 0.5153388140368848, 0.004846277459923575, 0.024791033977494423]\n",
      "new_likelihood_priors_feature_k2: [0.015117581238262418, 0.7841721441261703, 0.584183319678066, 0.9848824187617375]\n",
      "new_likelihood_priors_feature_k3: [0.03751812016866175, 0.17496029144894534, 0.9499554103537989, 0.9624818798313381]\n",
      "---\n",
      "new_priors: [0.39792453367460573, 0.4753596674207056, 0.1267157989046886]\n"
     ]
    }
   ],
   "source": [
    "# update likelihoods feature-wise\n",
    "\n",
    "def update_likelihood_priors_feature(samples, posteriors):\n",
    "  likelihood_priors = []\n",
    "  for j in range(len(samples[0])):\n",
    "    likelihood_priors.append(\n",
    "      np.sum([p * s[j] for p, s in zip(posteriors, samples)]) / np.sum(posteriors)\n",
    "    )\n",
    "  return likelihood_priors\n",
    "\n",
    "def update_priors(posteriors):\n",
    "  return [np.sum(p) / len(p) for p in posteriors]\n",
    "\n",
    "new_likelihood_priors_feature_k1 = update_likelihood_priors_feature(SAMPLES, posteriors[0])\n",
    "new_likelihood_priors_feature_k2 = update_likelihood_priors_feature(SAMPLES, posteriors[1])\n",
    "new_likelihood_priors_feature_k3 = update_likelihood_priors_feature(SAMPLES, posteriors[2])\n",
    "\n",
    "print(\"---\")\n",
    "\n",
    "print(f\"new_likelihood_priors_feature_k1: {new_likelihood_priors_feature_k1}\")\n",
    "print(f\"new_likelihood_priors_feature_k2: {new_likelihood_priors_feature_k2}\")\n",
    "print(f\"new_likelihood_priors_feature_k3: {new_likelihood_priors_feature_k3}\")\n",
    "\n",
    "new_priors = update_priors(posteriors)\n",
    "\n",
    "print(\"---\")\n",
    "\n",
    "print(f\"new_priors: {new_priors}\")\n",
    "  "
   ]
  },
  {
   "cell_type": "code",
   "execution_count": 203,
   "metadata": {},
   "outputs": [
    {
     "name": "stdout",
     "output_type": "stream",
     "text": [
      "---\n",
      "original_p_x: 4.88e-06\n",
      "new_p_x: 0.000186\n"
     ]
    }
   ],
   "source": [
    "def calc_p_x(priors, k_1_likelihoods, k_2_likelihoods, k_3_likelihoods):\n",
    "  p_k1, p_k2, p_k3 = priors\n",
    "  return np.prod([\n",
    "    p_k1 * k_1_likelihoods[i] +\n",
    "    p_k2 * k_2_likelihoods[i] +\n",
    "    p_k3 * k_3_likelihoods[i]\n",
    "    for i in range(len(k_1_likelihoods))\n",
    "  ])\n",
    "\n",
    "NEW_LIKELIHOOD_PRIORS_1 = np.array([\n",
    "  new_likelihood_priors_feature_k1,\n",
    "  new_likelihood_priors_feature_k2,\n",
    "  new_likelihood_priors_feature_k3\n",
    "])\n",
    "\n",
    "NEW_LIKELIHOOD_PRIORS_2 = np.array([[1 - l for l in row] for row in NEW_LIKELIHOOD_PRIORS_1])\n",
    "new_k_1_likelihoods, new_k_2_likelihoods, new_k_3_likelihoods = calc_likelihoods(SAMPLES, NEW_LIKELIHOOD_PRIORS_1, NEW_LIKELIHOOD_PRIORS_2)\n",
    "\n",
    "original_p_x = calc_p_x(PRIORS, k_1_likelihoods, k_2_likelihoods, k_3_likelihoods)\n",
    "new_p_x = calc_p_x(new_priors, new_k_1_likelihoods, new_k_2_likelihoods, new_k_3_likelihoods)\n",
    "\n",
    "print(\"---\")\n",
    "\n",
    "print(f\"original_p_x: {original_p_x:.4g}\")\n",
    "print(f\"new_p_x: {new_p_x:.4g}\")"
   ]
  }
 ],
 "metadata": {
  "kernelspec": {
   "display_name": "Python 3.10.8 64-bit",
   "language": "python",
   "name": "python3"
  },
  "language_info": {
   "codemirror_mode": {
    "name": "ipython",
    "version": 3
   },
   "file_extension": ".py",
   "mimetype": "text/x-python",
   "name": "python",
   "nbconvert_exporter": "python",
   "pygments_lexer": "ipython3",
   "version": "3.10.8"
  },
  "orig_nbformat": 4,
  "vscode": {
   "interpreter": {
    "hash": "e7370f93d1d0cde622a1f8e1c04877d8463912d04d973331ad4851f04de6915a"
   }
  }
 },
 "nbformat": 4,
 "nbformat_minor": 2
}
