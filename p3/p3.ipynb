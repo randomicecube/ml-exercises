{
 "cells": [
  {
   "cell_type": "code",
   "execution_count": 47,
   "metadata": {},
   "outputs": [],
   "source": [
    "import numpy as np\n",
    "from varname import nameof\n",
    "\n",
    "# adapted from stack overflow\n",
    "def bmatrix(a, var_name, exercise=1):\n",
    "    \"\"\"Stores in a file a LaTeX bmatrix from a numpy array.\"\"\"\n",
    "    if len(a.shape) > 2:\n",
    "        raise ValueError('bmatrix can at most display two dimensions')\n",
    "    lines = str(a).replace('[', '').replace(']', '').splitlines()\n",
    "    rv = [r'\\begin{bmatrix}']\n",
    "    rv += ['  ' + ' & '.join([f\"{float(x):.6g}\" for x in l.split()]) + r'\\\\' for l in lines]\n",
    "    rv +=  [r'\\end{bmatrix}']\n",
    "    with open(f\"./aux-matrices/ex-{exercise}/{var_name}.tex\", 'w+') as f:\n",
    "      f.write('\\n'.join(rv))"
   ]
  },
  {
   "cell_type": "markdown",
   "metadata": {},
   "source": [
    "# 1)"
   ]
  },
  {
   "cell_type": "code",
   "execution_count": 48,
   "metadata": {},
   "outputs": [],
   "source": [
    "SAMPLES = np.array([\n",
    "  [-2, 2],\n",
    "  [-1, 3],\n",
    "  [0, 1],\n",
    "  [-2, 1],\n",
    "])\n",
    "\n",
    "mu = np.mean(SAMPLES, axis=0)\n",
    "bmatrix(mu.reshape(-1, 1), nameof(mu))\n",
    "\n",
    "Sigma = np.cov(SAMPLES, rowvar=False)\n",
    "bmatrix(Sigma, nameof(Sigma))\n",
    "\n",
    "Sigma_inv = np.linalg.inv(Sigma)\n",
    "bmatrix(Sigma_inv, nameof(Sigma_inv))"
   ]
  },
  {
   "cell_type": "code",
   "execution_count": 49,
   "metadata": {},
   "outputs": [
    {
     "data": {
      "image/png": "[encoded data removed]",
      "text/plain": [
       "<Figure size 640x480 with 1 Axes>"
      ]
     },
     "metadata": {},
     "output_type": "display_data"
    }
   ],
   "source": [
    "# draw the contour plot of the multivariate normal distribution\n",
    "import matplotlib.pyplot as plt\n",
    "from scipy.stats import multivariate_normal\n",
    "\n",
    "# this is copilot's work, i don't know how it works\n",
    "x, y = np.mgrid[-5:5:.1, -5:5:.1]\n",
    "pos = np.empty(x.shape + (2,))\n",
    "pos[:, :, 0] = x; pos[:, :, 1] = y\n",
    "rv = multivariate_normal(mu, Sigma)\n",
    "plt.contourf(x, y, rv.pdf(pos), cmap='Blues')\n",
    "plt.scatter(SAMPLES[:, 0], SAMPLES[:, 1], color='blue')\n",
    "# make it an SVG\n",
    "plt.savefig('./assets/ex-1/contour.svg', format='svg')\n",
    "plt.show()"
   ]
  },
  {
   "cell_type": "markdown",
   "metadata": {},
   "source": [
    "# 3)"
   ]
  },
  {
   "cell_type": "code",
   "execution_count": 50,
   "metadata": {},
   "outputs": [
    {
     "name": "stdout",
     "output_type": "stream",
     "text": [
      "mu_0 = [ 93.33333333 156.66666667]\n",
      "mu_1 = [ 80.         203.33333333]\n",
      "Sigma_0 = [[4433.33333333  216.66666667]\n",
      " [ 216.66666667   33.33333333]]\n",
      "Sigma_1 = [[100.          50.        ]\n",
      " [ 50.         233.33333333]]\n"
     ]
    }
   ],
   "source": [
    "SAMPLES = np.array([\n",
    "  [170, 160],\n",
    "  [80, 220],\n",
    "  [90, 200],\n",
    "  [60, 160],\n",
    "  [50, 150],\n",
    "  [70, 190],\n",
    "])\n",
    "\n",
    "LABELS = np.array([0, 1, 1, 0, 0, 1])\n",
    "\n",
    "mu_0 = np.mean(SAMPLES[LABELS == 0], axis=0)\n",
    "bmatrix(mu_0.reshape(-1, 1), nameof(mu_0), exercise=3)\n",
    "\n",
    "mu_1 = np.mean(SAMPLES[LABELS == 1], axis=0)\n",
    "bmatrix(mu_1.reshape(-1, 1), nameof(mu_1), exercise=3)\n",
    "\n",
    "Sigma_0 = np.cov(SAMPLES[LABELS == 0], rowvar=False)\n",
    "bmatrix(Sigma_0, nameof(Sigma_0), exercise=3)\n",
    "\n",
    "Sigma_1 = np.cov(SAMPLES[LABELS == 1], rowvar=False)\n",
    "bmatrix(Sigma_1, nameof(Sigma_1), exercise=3)\n",
    "\n",
    "print(f\"mu_0 = {mu_0}\")\n",
    "print(f\"mu_1 = {mu_1}\")\n",
    "print(f\"Sigma_0 = {Sigma_0}\")\n",
    "print(f\"Sigma_1 = {Sigma_1}\")"
   ]
  },
  {
   "cell_type": "code",
   "execution_count": 55,
   "metadata": {},
   "outputs": [
    {
     "name": "stdout",
     "output_type": "stream",
     "text": [
      "likelihood: z=0: 3.47826e-48\n",
      "likelihood: z=1: 0.000107642\n"
     ]
    }
   ],
   "source": [
    "QUERY_POINT = np.array([100, 225])\n",
    "\n",
    "# calculate the likelihoods\n",
    "p_0 = multivariate_normal(mu_0, Sigma_0).pdf(QUERY_POINT)\n",
    "p_1 = multivariate_normal(mu_1, Sigma_1).pdf(QUERY_POINT)\n",
    "\n",
    "print(f\"likelihood: z=0: {p_0:.6g}\")\n",
    "print(f\"likelihood: z=1: {p_1:.6g}\")"
   ]
  },
  {
   "cell_type": "code",
   "execution_count": 57,
   "metadata": {},
   "outputs": [
    {
     "name": "stdout",
     "output_type": "stream",
     "text": [
      "sigma_0 = [66.58328118  5.77350269]\n",
      "sigma_1 = [10.         15.27525232]\n"
     ]
    }
   ],
   "source": [
    "sigma_0 = np.sqrt(np.diag(Sigma_0))\n",
    "sigma_1 = np.sqrt(np.diag(Sigma_1))\n",
    "\n",
    "bmatrix(sigma_0.reshape(-1, 1), nameof(sigma_0), exercise=3)\n",
    "bmatrix(sigma_1.reshape(-1, 1), nameof(sigma_1), exercise=3)\n",
    "\n",
    "print(f\"sigma_0 = {sigma_0}\")\n",
    "print(f\"sigma_1 = {sigma_1}\")"
   ]
  },
  {
   "cell_type": "code",
   "execution_count": 60,
   "metadata": {},
   "outputs": [
    {
     "name": "stdout",
     "output_type": "stream",
     "text": [
      "likelihood: z=0: 1.57083e-34\n",
      "likelihood: z=1: 5.1566e-05\n"
     ]
    }
   ],
   "source": [
    "# calculate the likelihoods\n",
    "\n",
    "from scipy.stats import norm\n",
    "\n",
    "p_0 = norm(mu_0[0], sigma_0[0]).pdf(QUERY_POINT[0]) * norm(mu_0[1], sigma_0[1]).pdf(QUERY_POINT[1])\n",
    "p_1 = norm(mu_1[0], sigma_1[0]).pdf(QUERY_POINT[0]) * norm(mu_1[1], sigma_1[1]).pdf(QUERY_POINT[1])\n",
    "\n",
    "print(f\"likelihood: z=0: {p_0:.6g}\")\n",
    "print(f\"likelihood: z=1: {p_1:.6g}\")"
   ]
  }
 ],
 "metadata": {
  "kernelspec": {
   "display_name": "Python 3.10.8 64-bit",
   "language": "python",
   "name": "python3"
  },
  "language_info": {
   "codemirror_mode": {
    "name": "ipython",
    "version": 3
   },
   "file_extension": ".py",
   "mimetype": "text/x-python",
   "name": "python",
   "nbconvert_exporter": "python",
   "pygments_lexer": "ipython3",
   "version": "3.10.8"
  },
  "orig_nbformat": 4,
  "vscode": {
   "interpreter": {
    "hash": "e7370f93d1d0cde622a1f8e1c04877d8463912d04d973331ad4851f04de6915a"
   }
  }
 },
 "nbformat": 4,
 "nbformat_minor": 2
}
