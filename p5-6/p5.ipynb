{
 "cells": [
  {
   "cell_type": "code",
   "execution_count": 28,
   "metadata": {},
   "outputs": [],
   "source": [
    "import numpy as np\n",
    "from varname import nameof\n",
    "\n",
    "# adapted from stack overflow\n",
    "def bmatrix(a, var_name, exercise=1):\n",
    "    \"\"\"Stores in a file a LaTeX bmatrix from a numpy array.\"\"\"\n",
    "    if len(a.shape) > 2:\n",
    "        raise ValueError('bmatrix can at most display two dimensions')\n",
    "    lines = str(a).replace('[', '').replace(']', '').splitlines()\n",
    "    rv = [r'\\begin{bmatrix}']\n",
    "    rv += ['  ' + ' & '.join([f\"{float(x):.6g}\" for x in l.split()]) + r'\\\\' for l in lines]\n",
    "    rv +=  [r'\\end{bmatrix}']\n",
    "    with open(f\"./aux-matrices/ex-{exercise}/{var_name}.tex\", 'w+') as f:\n",
    "      f.write('\\n'.join(rv))"
   ]
  },
  {
   "cell_type": "markdown",
   "metadata": {},
   "source": [
    "# 1)"
   ]
  },
  {
   "cell_type": "code",
   "execution_count": 29,
   "metadata": {},
   "outputs": [],
   "source": [
    "w_1 = np.array([[1, 1, 1]]).T\n",
    "\n",
    "def sign(x, w):\n",
    "  return np.sign(np.dot(x, w))\n",
    "\n",
    "X = np.array([\n",
    "  [1, 0, 0, 0],\n",
    "  [1, 0, 2, 1],\n",
    "  [1, 1, 1, 1],\n",
    "  [1, 1, -1, 0]\n",
    "])\n",
    "\n",
    "LABELS = np.array([\n",
    "  [-1, 1, 1, -1]\n",
    "]).T\n",
    "\n",
    "[x_1, x_2, x_3, x_4] = X\n",
    "\n",
    "bmatrix(X, nameof(X))\n",
    "bmatrix(x_1, nameof(x_1))\n",
    "bmatrix(x_2, nameof(x_2))\n",
    "bmatrix(x_3, nameof(x_3))\n",
    "bmatrix(x_4, nameof(x_4))\n",
    "bmatrix(LABELS, nameof(LABELS))\n",
    "bmatrix(w_1, nameof(w_1))"
   ]
  },
  {
   "cell_type": "code",
   "execution_count": 30,
   "metadata": {},
   "outputs": [],
   "source": [
    "ETA = 1\n",
    "\n",
    "x_1_first_3 = x_1[:3]\n",
    "bmatrix(x_1_first_3, nameof(x_1_first_3))\n",
    "x_2_first_3 = x_2[:3]\n",
    "bmatrix(x_2_first_3, nameof(x_2_first_3))\n",
    "x_3_first_3 = x_3[:3]\n",
    "bmatrix(x_3_first_3, nameof(x_3_first_3))\n",
    "x_4_first_3 = x_4[:3]\n",
    "bmatrix(x_4_first_3, nameof(x_4_first_3))\n",
    "\n",
    "def update_weights(w, x, z):\n",
    "  return w + ETA * (z - sign(x, w)[0]) * x.reshape(-1, 1)\n",
    "\n",
    "# updates will be done considering only the first (dummy) feature plus the next two\n",
    "\n",
    "w_2 = update_weights(w_1, x_1_first_3, LABELS[0][0])\n",
    "bmatrix(w_2, nameof(w_2))\n",
    "w_3 = update_weights(w_2, x_2_first_3, LABELS[1][0])\n",
    "bmatrix(w_3, nameof(w_3))\n",
    "w_4 = update_weights(w_3, x_3_first_3, LABELS[2][0])\n",
    "bmatrix(w_4, nameof(w_4))\n",
    "w_5 = update_weights(w_4, x_4_first_3, LABELS[3][0])\n",
    "bmatrix(w_5, nameof(w_5))"
   ]
  },
  {
   "cell_type": "code",
   "execution_count": 33,
   "metadata": {},
   "outputs": [],
   "source": [
    "# do the same, but now considering all features\n",
    "\n",
    "w_1_all = np.array([[1, 1, 1, 1]]).T\n",
    "bmatrix(w_1_all, nameof(w_1_all))\n",
    "\n",
    "w_2_all = update_weights(w_1_all, x_1, LABELS[0][0])\n",
    "bmatrix(w_2_all, nameof(w_2_all))\n",
    "w_3_all = update_weights(w_2_all, x_2, LABELS[1][0])\n",
    "bmatrix(w_3_all, nameof(w_3_all))\n",
    "w_4_all = update_weights(w_3_all, x_3, LABELS[2][0])\n",
    "bmatrix(w_4_all, nameof(w_4_all))\n",
    "w_5_all = update_weights(w_4_all, x_4, LABELS[3][0])\n",
    "bmatrix(w_5_all, nameof(w_5_all))"
   ]
  }
 ],
 "metadata": {
  "kernelspec": {
   "display_name": "Python 3.10.8 64-bit",
   "language": "python",
   "name": "python3"
  },
  "language_info": {
   "codemirror_mode": {
    "name": "ipython",
    "version": 3
   },
   "file_extension": ".py",
   "mimetype": "text/x-python",
   "name": "python",
   "nbconvert_exporter": "python",
   "pygments_lexer": "ipython3",
   "version": "3.10.8"
  },
  "orig_nbformat": 4,
  "vscode": {
   "interpreter": {
    "hash": "e7370f93d1d0cde622a1f8e1c04877d8463912d04d973331ad4851f04de6915a"
   }
  }
 },
 "nbformat": 4,
 "nbformat_minor": 2
}
