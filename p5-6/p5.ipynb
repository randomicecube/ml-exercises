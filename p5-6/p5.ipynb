{
 "cells": [
  {
   "cell_type": "code",
   "execution_count": 111,
   "metadata": {},
   "outputs": [],
   "source": [
    "import numpy as np\n",
    "from varname import nameof\n",
    "\n",
    "# adapted from stack overflow\n",
    "def bmatrix(a, var_name, exercise=1):\n",
    "    \"\"\"Stores in a file a LaTeX bmatrix from a numpy array.\"\"\"\n",
    "    if len(a.shape) > 2:\n",
    "        raise ValueError('bmatrix can at most display two dimensions')\n",
    "    lines = str(a).replace('[', '').replace(']', '').splitlines()\n",
    "    rv = [r'\\begin{bmatrix}']\n",
    "    rv += ['  ' + ' & '.join([f\"{float(x):.6g}\" for x in l.split()]) + r'\\\\' for l in lines]\n",
    "    rv +=  [r'\\end{bmatrix}']\n",
    "    with open(f\"./aux-matrices/ex-{exercise}/{var_name}.tex\", 'w+') as f:\n",
    "      f.write('\\n'.join(rv))"
   ]
  },
  {
   "cell_type": "markdown",
   "metadata": {},
   "source": [
    "# 1)"
   ]
  },
  {
   "cell_type": "code",
   "execution_count": 112,
   "metadata": {},
   "outputs": [],
   "source": [
    "w_1 = np.array([[1, 1, 1]]).T\n",
    "\n",
    "def sign(x, w):\n",
    "  return np.sign(np.dot(x, w))\n",
    "\n",
    "X = np.array([\n",
    "  [1, 0, 0, 0],\n",
    "  [1, 0, 2, 1],\n",
    "  [1, 1, 1, 1],\n",
    "  [1, 1, -1, 0]\n",
    "])\n",
    "\n",
    "LABELS = np.array([\n",
    "  [-1, 1, 1, -1]\n",
    "]).T\n",
    "\n",
    "[x_1, x_2, x_3, x_4] = X\n",
    "\n",
    "bmatrix(X, nameof(X))\n",
    "bmatrix(x_1, nameof(x_1))\n",
    "bmatrix(x_2, nameof(x_2))\n",
    "bmatrix(x_3, nameof(x_3))\n",
    "bmatrix(x_4, nameof(x_4))\n",
    "bmatrix(LABELS, nameof(LABELS))\n",
    "bmatrix(w_1, nameof(w_1))"
   ]
  },
  {
   "cell_type": "code",
   "execution_count": 113,
   "metadata": {},
   "outputs": [],
   "source": [
    "ETA = 1\n",
    "\n",
    "x_1_first_3 = x_1[:3]\n",
    "bmatrix(x_1_first_3, nameof(x_1_first_3))\n",
    "x_2_first_3 = x_2[:3]\n",
    "bmatrix(x_2_first_3, nameof(x_2_first_3))\n",
    "x_3_first_3 = x_3[:3]\n",
    "bmatrix(x_3_first_3, nameof(x_3_first_3))\n",
    "x_4_first_3 = x_4[:3]\n",
    "bmatrix(x_4_first_3, nameof(x_4_first_3))\n",
    "\n",
    "def update_weights(w, x, z):\n",
    "  return w + ETA * (z - sign(x, w)[0]) * x.reshape(-1, 1)\n",
    "\n",
    "# updates will be done considering only the first (dummy) feature plus the next two\n",
    "\n",
    "w_2 = update_weights(w_1, x_1_first_3, LABELS[0][0])\n",
    "bmatrix(w_2, nameof(w_2))\n",
    "w_3 = update_weights(w_2, x_2_first_3, LABELS[1][0])\n",
    "bmatrix(w_3, nameof(w_3))\n",
    "w_4 = update_weights(w_3, x_3_first_3, LABELS[2][0])\n",
    "bmatrix(w_4, nameof(w_4))\n",
    "w_5 = update_weights(w_4, x_4_first_3, LABELS[3][0])\n",
    "bmatrix(w_5, nameof(w_5))"
   ]
  },
  {
   "cell_type": "code",
   "execution_count": 114,
   "metadata": {},
   "outputs": [],
   "source": [
    "# do the same, but now considering all features\n",
    "\n",
    "w_1_all = np.array([[1, 1, 1, 1]]).T\n",
    "bmatrix(w_1_all, nameof(w_1_all))\n",
    "\n",
    "w_2_all = update_weights(w_1_all, x_1, LABELS[0][0])\n",
    "bmatrix(w_2_all, nameof(w_2_all))\n",
    "w_3_all = update_weights(w_2_all, x_2, LABELS[1][0])\n",
    "bmatrix(w_3_all, nameof(w_3_all))\n",
    "w_4_all = update_weights(w_3_all, x_3, LABELS[2][0])\n",
    "bmatrix(w_4_all, nameof(w_4_all))\n",
    "w_5_all = update_weights(w_4_all, x_4, LABELS[3][0])\n",
    "bmatrix(w_5_all, nameof(w_5_all))"
   ]
  },
  {
   "cell_type": "code",
   "execution_count": 115,
   "metadata": {},
   "outputs": [
    {
     "name": "stderr",
     "output_type": "stream",
     "text": [
      "/usr/lib/python3.10/site-packages/seaborn/_decorators.py:36: FutureWarning: Pass the following variables as keyword args: x, y. From version 0.12, the only valid positional argument will be `data`, and passing other arguments without an explicit keyword will result in an error or misinterpretation.\n",
      "  warnings.warn(\n"
     ]
    },
    {
     "data": {
      "image/png": "[encoded data removed]",
      "text/plain": [
       "<Figure size 640x480 with 1 Axes>"
      ]
     },
     "metadata": {},
     "output_type": "display_data"
    }
   ],
   "source": [
    "# plot the sigmoid function, sigma(x)\n",
    "\n",
    "import matplotlib.pyplot as plt\n",
    "import seaborn as sns\n",
    "sns.set_style(\"darkgrid\")\n",
    "\n",
    "def sigmoid(x):\n",
    "  return 1 / (1 + np.exp(-x))\n",
    "\n",
    "x = np.linspace(-10, 10, 100)\n",
    "y = sigmoid(x)\n",
    "\n",
    "# sns.lineplot(x, y), mark the point sigma(0) = 0.5 (and add a dashed line)\n",
    "\n",
    "sns.lineplot(x, y)\n",
    "plt.axhline(y=0, color='black', linestyle='--')\n",
    "plt.axhline(y=0.5, color='black', linestyle='--')\n",
    "plt.axhline(y=1, color='black', linestyle='--')\n",
    "plt.scatter(0, 0.5, color='red')\n",
    "\n",
    "plt.xlabel(\"x\")\n",
    "plt.ylabel(\"sigma(x)\")\n",
    "\n",
    "plt.savefig('./assets/sigmoid.png')\n",
    "plt.show()"
   ]
  },
  {
   "cell_type": "markdown",
   "metadata": {},
   "source": [
    "# 2)"
   ]
  },
  {
   "cell_type": "code",
   "execution_count": 116,
   "metadata": {},
   "outputs": [],
   "source": [
    "ETA = 1\n",
    "X = np.array([\n",
    "  [1, 1, 1],\n",
    "  [1, 2, 1],\n",
    "  [1, 1, 3],\n",
    "  [1, 3, 3]\n",
    "])\n",
    "\n",
    "[x_1, x_2, x_3, x_4] = X\n",
    "\n",
    "bmatrix(x_1.reshape(-1, 1), nameof(x_1), 2)\n",
    "bmatrix(x_2.reshape(-1, 1), nameof(x_2), 2)\n",
    "bmatrix(x_3.reshape(-1, 1), nameof(x_3), 2)\n",
    "bmatrix(x_4.reshape(-1, 1), nameof(x_4), 2)\n",
    "\n",
    "Z = np.array([\n",
    "  [1, 1, 0, 0]\n",
    "]).T\n",
    "\n",
    "[z_1, z_2, z_3, z_4] = Z\n",
    "\n",
    "w = np.array([\n",
    "  [1, 1, 1]\n",
    "]).T\n",
    "\n",
    "bmatrix(X.T, nameof(X), 2)\n",
    "bmatrix(w, nameof(w), 2)"
   ]
  },
  {
   "cell_type": "code",
   "execution_count": 117,
   "metadata": {},
   "outputs": [
    {
     "name": "stdout",
     "output_type": "stream",
     "text": [
      "[[0.99991997]\n",
      " [0.99991687]\n",
      " [0.99973507]]\n",
      "(z - sigmoid): [0.00247262]\n",
      "(1 - sigmoid): [0.00247262]\n",
      "sigmoid: [0.99752738]\n",
      "[[1.0000122]\n",
      " [1.0000122]\n",
      " [1.0000122]]\n"
     ]
    }
   ],
   "source": [
    "# compute the batch update\n",
    "\n",
    "sum_matrix = [\n",
    "  x_i * (z_i - sigmoid(np.dot(2 * x_i, w.reshape(-1, 1)))) * (1 - sigmoid(np.dot(2 * x_i, w.reshape(-1, 1)))) * sigmoid(np.dot(2 * x_i, w.reshape(-1, 1)))\n",
    "  for x_i, z_i in zip(X, Z)\n",
    "]\n",
    "\n",
    "x_1_matrix = [\n",
    "  x_1 * (z_1 - sigmoid(np.dot(2 * x_1, w.reshape(-1, 1)))) * (1 - sigmoid(np.dot(2 * x_1, w.reshape(-1, 1)))) * sigmoid(np.dot(2 * x_1, w.reshape(-1, 1)))\n",
    "]\n",
    "\n",
    "w_2 = w + 2 * ETA * np.sum(sum_matrix, axis=0).reshape(-1, 1)\n",
    "\n",
    "print(w_2)\n",
    "bmatrix(w_2, nameof(w_2), 2)\n",
    "\n",
    "w_new = w + 2 * ETA * np.sum(x_1_matrix, axis=0).reshape(-1, 1)\n",
    "\n",
    "print(f\"(z - sigmoid): {Z[0] - sigmoid(np.dot(2 * X[0], w.reshape(-1, 1)))}\")\n",
    "print(f\"(1 - sigmoid): {1 - sigmoid(np.dot(2 * X[0], w.reshape(-1, 1)))}\")\n",
    "print(f\"sigmoid: {sigmoid(np.dot(2 * X[0], w.reshape(-1, 1)))}\")\n",
    "\n",
    "print(w_new)\n",
    "bmatrix(w_new, nameof(w_new), 2)"
   ]
  },
  {
   "cell_type": "markdown",
   "metadata": {},
   "source": [
    "# 3)"
   ]
  },
  {
   "cell_type": "code",
   "execution_count": 118,
   "metadata": {},
   "outputs": [],
   "source": [
    "bmatrix(x_1.reshape(-1, 1), nameof(x_1), 3)\n",
    "bmatrix(x_2.reshape(-1, 1), nameof(x_2), 3)\n",
    "bmatrix(x_3.reshape(-1, 1), nameof(x_3), 3)\n",
    "bmatrix(x_4.reshape(-1, 1), nameof(x_4), 3)\n",
    "\n",
    "bmatrix(X.T, nameof(X), 3)\n",
    "bmatrix(w, nameof(w), 3)"
   ]
  },
  {
   "cell_type": "code",
   "execution_count": 119,
   "metadata": {},
   "outputs": [
    {
     "name": "stdout",
     "output_type": "stream",
     "text": [
      "[1 1 1]\n",
      "[[1]\n",
      " [1]\n",
      " [1]]\n",
      "[[-0.92698401]\n",
      " [-2.9071757 ]\n",
      " [-4.91177621]]\n",
      "[[1.04742587]\n",
      " [1.04742587]\n",
      " [1.04742587]]\n"
     ]
    }
   ],
   "source": [
    "# compute the batch update\n",
    "\n",
    "sum_matrix = [\n",
    "  x_i * (z_i - sigmoid(np.dot(x_i, w.reshape(-1, 1))))\n",
    "  for x_i, z_i in zip(X, Z)\n",
    "]\n",
    "\n",
    "x_1_matrix = [\n",
    "  x_1 * (z_1 - sigmoid(np.dot(x_1, w.reshape(-1, 1))))\n",
    "]\n",
    "\n",
    "print(x_1)\n",
    "print(w.reshape(-1, 1))\n",
    "\n",
    "w_2 = w + ETA * np.sum(sum_matrix, axis=0).reshape(-1, 1)\n",
    "\n",
    "print(w_2)\n",
    "bmatrix(w_2, nameof(w_2), 3)\n",
    "\n",
    "w_new = w + ETA * np.sum(x_1_matrix, axis=0).reshape(-1, 1)\n",
    "\n",
    "print(w_new)\n",
    "bmatrix(w_new, nameof(w_new), 3)"
   ]
  },
  {
   "cell_type": "markdown",
   "metadata": {},
   "source": [
    "# 4)"
   ]
  },
  {
   "cell_type": "code",
   "execution_count": 133,
   "metadata": {},
   "outputs": [],
   "source": [
    "X = np.array([1, 1, 1])\n",
    "\n",
    "Z = 0\n",
    "\n",
    "w = np.array([\n",
    "  [0, 1, 0]\n",
    "]).T\n",
    "\n",
    "bmatrix(X.reshape(-1,1), nameof(X), 4)\n",
    "bmatrix(w, nameof(w), 4)\n",
    "\n",
    "ETA = 2\n",
    "\n",
    "w_new = w + 2 * ETA * (\n",
    "  X * np.dot(X, w) * np.exp(np.dot(X, w)**2) * (Z - np.exp(np.dot(X, w)**2))\n",
    ").reshape(-1, 1)\n",
    "\n",
    "bmatrix(w_new, nameof(w_new), 4)"
   ]
  }
 ],
 "metadata": {
  "kernelspec": {
   "display_name": "Python 3.10.8 64-bit",
   "language": "python",
   "name": "python3"
  },
  "language_info": {
   "codemirror_mode": {
    "name": "ipython",
    "version": 3
   },
   "file_extension": ".py",
   "mimetype": "text/x-python",
   "name": "python",
   "nbconvert_exporter": "python",
   "pygments_lexer": "ipython3",
   "version": "3.10.8"
  },
  "orig_nbformat": 4,
  "vscode": {
   "interpreter": {
    "hash": "e7370f93d1d0cde622a1f8e1c04877d8463912d04d973331ad4851f04de6915a"
   }
  }
 },
 "nbformat": 4,
 "nbformat_minor": 2
}
