{
 "cells": [
  {
   "cell_type": "markdown",
   "metadata": {},
   "source": [
    "# 1"
   ]
  },
  {
   "cell_type": "code",
   "execution_count": 43,
   "metadata": {},
   "outputs": [],
   "source": [
    "import numpy as np\n",
    "from varname import nameof\n",
    "\n",
    "# adapted from stack overflow\n",
    "def bmatrix(a, var_name, exercise=1):\n",
    "    \"\"\"Stores in a file a LaTeX bmatrix from a numpy array.\"\"\"\n",
    "    if len(a.shape) > 2:\n",
    "        raise ValueError('bmatrix can at most display two dimensions')\n",
    "    lines = str(a).replace('[', '').replace(']', '').splitlines()\n",
    "    rv = [r'\\begin{bmatrix}']\n",
    "    rv += ['  ' + ' & '.join([f\"{float(x):.6g}\" for x in l.split()]) + r'\\\\' for l in lines]\n",
    "    rv +=  [r'\\end{bmatrix}']\n",
    "    with open(f\"./aux-matrices/ex-{exercise}/{var_name}.tex\", 'w+') as f:\n",
    "      f.write('\\n'.join(rv))\n",
    "\n",
    "def sigmoid(z):\n",
    "    return 1 / (1 + np.exp(-z))\n",
    "\n",
    "def calc_z(x, w, b):\n",
    "  return w @ x + b\n",
    "\n",
    "def calc_d_e_w(delta, x):\n",
    "  return delta @ x.T\n",
    "\n",
    "def calc_d_e_b(delta):\n",
    "  return np.array([np.sum(delta, axis=1)]).transpose()\n",
    "\n",
    "def update_stuff(stuff, learning_rate, gradient):\n",
    "  return stuff - learning_rate * gradient"
   ]
  },
  {
   "cell_type": "code",
   "execution_count": 44,
   "metadata": {},
   "outputs": [],
   "source": [
    "LEARNING_RATE = 1\n",
    "\n",
    "x_t = np.array([1, 1, 0, 0, 0])\n",
    "z_t = np.array([1, 0])\n",
    "\n",
    "bmatrix(x_t, nameof(x_t))\n",
    "bmatrix(z_t, nameof(z_t))\n",
    "\n",
    "x = x_t.reshape(5, 1)\n",
    "z = z_t.reshape(2, 1)\n",
    "\n",
    "bmatrix(x, nameof(x))\n",
    "bmatrix(z, nameof(z))"
   ]
  },
  {
   "cell_type": "code",
   "execution_count": 45,
   "metadata": {},
   "outputs": [],
   "source": [
    "[w_1, w_2] = [0.1 * ones for ones in [np.ones((3, 5)), np.ones((2, 3))]]\n",
    "[b_1, b_2] = [np.zeros((3, 1)), np.zeros((2, 1))]\n",
    "\n",
    "bmatrix(w_1, nameof(w_1))\n",
    "bmatrix(w_2, nameof(w_2))\n",
    "bmatrix(b_1, nameof(b_1))\n",
    "bmatrix(b_2, nameof(b_2))"
   ]
  },
  {
   "cell_type": "code",
   "execution_count": 46,
   "metadata": {},
   "outputs": [],
   "source": [
    "z_1 = calc_z(x, w_1, b_1)\n",
    "x_1 = sigmoid(z_1)\n",
    "\n",
    "bmatrix(z_1, nameof(z_1))\n",
    "bmatrix(x_1, nameof(x_1))\n",
    "\n",
    "z_2 = calc_z(x_1, w_2, b_2)\n",
    "x_2 = sigmoid(z_2)\n",
    "\n",
    "bmatrix(z_2, nameof(z_2))\n",
    "bmatrix(x_2, nameof(x_2))"
   ]
  },
  {
   "cell_type": "code",
   "execution_count": 47,
   "metadata": {},
   "outputs": [],
   "source": [
    "delta_2 = (x_2 - z) * sigmoid(z_2) * (1 - sigmoid(z_2))\n",
    "delta_1 = w_2.T @ delta_2 * sigmoid(z_1) * (1 - sigmoid(z_1))\n",
    "\n",
    "bmatrix(delta_2, nameof(delta_2))\n",
    "bmatrix(delta_1, nameof(delta_1))"
   ]
  },
  {
   "cell_type": "code",
   "execution_count": 48,
   "metadata": {},
   "outputs": [],
   "source": [
    "d_e_w1 = calc_d_e_w(delta_1, x)\n",
    "d_e_w2 = calc_d_e_w(delta_2, x_1)\n",
    "d_e_b1 = calc_d_e_b(delta_1)\n",
    "d_e_b2 = calc_d_e_b(delta_2)\n",
    "\n",
    "bmatrix(d_e_w1, nameof(d_e_w1))\n",
    "bmatrix(d_e_w2, nameof(d_e_w2))\n",
    "bmatrix(d_e_b1, nameof(d_e_b1))\n",
    "bmatrix(d_e_b2, nameof(d_e_b2))"
   ]
  },
  {
   "cell_type": "code",
   "execution_count": 49,
   "metadata": {},
   "outputs": [],
   "source": [
    "w1_new = update_stuff(w_1, LEARNING_RATE, d_e_w1)\n",
    "w2_new = update_stuff(w_2, LEARNING_RATE, d_e_w2)\n",
    "b1_new = update_stuff(b_1, LEARNING_RATE, d_e_b1)\n",
    "b2_new = update_stuff(b_2, LEARNING_RATE, d_e_b2)\n",
    "\n",
    "bmatrix(w1_new, nameof(w1_new))\n",
    "bmatrix(w2_new, nameof(w2_new))\n",
    "bmatrix(b1_new, nameof(b1_new))\n",
    "bmatrix(b2_new, nameof(b2_new))"
   ]
  },
  {
   "cell_type": "code",
   "execution_count": 50,
   "metadata": {},
   "outputs": [],
   "source": [
    "x_new = np.array([1, 0, 0, 0, 1])\n",
    "\n",
    "bmatrix(x_new, nameof(x_new))\n",
    "\n",
    "x_new = x_new.reshape(5, 1)"
   ]
  },
  {
   "cell_type": "code",
   "execution_count": 51,
   "metadata": {},
   "outputs": [],
   "source": [
    "z_1_new = calc_z(x_new, w1_new, b1_new)\n",
    "x_1_new = sigmoid(z_1_new)\n",
    "\n",
    "z_2_new = calc_z(x_1_new, w2_new, b2_new)\n",
    "x_2_new = sigmoid(z_2_new)\n",
    "\n",
    "bmatrix(z_1_new, nameof(z_1_new))\n",
    "bmatrix(x_1_new, nameof(x_1_new))\n",
    "bmatrix(z_2_new, nameof(z_2_new))\n",
    "bmatrix(x_2_new, nameof(x_2_new))"
   ]
  },
  {
   "cell_type": "markdown",
   "metadata": {},
   "source": [
    "# 2)"
   ]
  },
  {
   "cell_type": "code",
   "execution_count": 52,
   "metadata": {},
   "outputs": [],
   "source": [
    "LEARNING_RATE = 0.1\n",
    "\n",
    "x_t = np.array([1, 0, 1, 0])\n",
    "z_t = np.array([0, 1, 0])\n",
    "\n",
    "bmatrix(x_t, nameof(x_t), exercise=2)\n",
    "bmatrix(z_t, nameof(z_t), exercise=2)\n",
    "\n",
    "x = x_t.reshape(4, 1)\n",
    "z = z_t.reshape(3, 1)"
   ]
  },
  {
   "cell_type": "code",
   "execution_count": 53,
   "metadata": {},
   "outputs": [],
   "source": [
    "x2_t = np.array([0, 0, 10, 0])\n",
    "z2_t = np.array([0, 0, 1])\n",
    "\n",
    "bmatrix(x2_t, nameof(x2_t), exercise=2)\n",
    "bmatrix(z2_t, nameof(z2_t), exercise=2)\n",
    "\n",
    "x2 = x2_t.reshape(4, 1)\n",
    "z2 = z2_t.reshape(3, 1)"
   ]
  },
  {
   "cell_type": "code",
   "execution_count": 54,
   "metadata": {},
   "outputs": [],
   "source": [
    "[w_1, w_2, w_3] = [0.1 * ones for ones in [np.ones((4, 4)), np.ones((3, 4)), np.ones((3, 3))]]\n",
    "[b_1, b_2, b_3] = [0.1 * ones for ones in [np.ones((4, 1)), np.ones((3, 1)), np.ones((3, 1))]]\n",
    "\n",
    "bmatrix(w_1, nameof(w_1), exercise=2)\n",
    "bmatrix(w_2, nameof(w_2), exercise=2)\n",
    "bmatrix(w_3, nameof(w_3), exercise=2)\n",
    "bmatrix(b_1, nameof(b_1), exercise=2)\n",
    "bmatrix(b_2, nameof(b_2), exercise=2)\n",
    "bmatrix(b_3, nameof(b_3), exercise=2)"
   ]
  },
  {
   "cell_type": "code",
   "execution_count": 55,
   "metadata": {},
   "outputs": [
    {
     "name": "stdout",
     "output_type": "stream",
     "text": [
      "[[ 1  0  1  0]\n",
      " [ 0  0 10  0]]\n"
     ]
    }
   ],
   "source": [
    "x_0_t = np.hstack((x, x2)).T\n",
    "\n",
    "bmatrix(x_0_t, nameof(x_0_t), exercise=2)\n",
    "\n",
    "print(x_0_t)\n",
    "\n",
    "x_0 = x_0_t.T\n",
    "\n",
    "bmatrix(x_0, nameof(x_0), exercise=2)"
   ]
  },
  {
   "cell_type": "code",
   "execution_count": 56,
   "metadata": {},
   "outputs": [],
   "source": [
    "z_0_t = np.hstack((z, z2)).T\n",
    "\n",
    "bmatrix(z_0_t, nameof(z_0_t), exercise=2)\n",
    "\n",
    "z_0 = z_0_t.T\n",
    "\n",
    "bmatrix(z_0, nameof(z_0), exercise=2)"
   ]
  },
  {
   "cell_type": "code",
   "execution_count": 57,
   "metadata": {},
   "outputs": [],
   "source": [
    "z_1 = calc_z(x_0, w_1, b_1)\n",
    "x_1 = np.tanh(z_1)\n",
    "\n",
    "bmatrix(z_1, nameof(z_1), exercise=2)\n",
    "bmatrix(x_1, nameof(x_1), exercise=2)\n",
    "\n",
    "z_2 = calc_z(x_1, w_2, b_2)\n",
    "x_2 = np.tanh(z_2)\n",
    "\n",
    "bmatrix(z_2, nameof(z_2), exercise=2)\n",
    "bmatrix(x_2, nameof(x_2), exercise=2)\n",
    "\n",
    "z_3 = calc_z(x_2, w_3, b_3)\n",
    "x_3 = np.tanh(z_3)\n",
    "\n",
    "bmatrix(z_3, nameof(z_3), exercise=2)\n",
    "bmatrix(x_3, nameof(x_3), exercise=2)"
   ]
  },
  {
   "cell_type": "code",
   "execution_count": 58,
   "metadata": {},
   "outputs": [],
   "source": [
    "delta_3 = (x_3 - z_0) * (1 - np.tanh(z_3) ** 2)\n",
    "delta_2 = w_3.T @ delta_3 * (1 - np.tanh(z_2) ** 2)\n",
    "delta_1 = w_2.T @ delta_2 * (1 - np.tanh(z_1) ** 2)\n",
    "\n",
    "bmatrix(delta_3, nameof(delta_3), exercise=2)\n",
    "bmatrix(delta_2, nameof(delta_2), exercise=2)\n",
    "bmatrix(delta_1, nameof(delta_1), exercise=2)"
   ]
  },
  {
   "cell_type": "code",
   "execution_count": 59,
   "metadata": {},
   "outputs": [],
   "source": [
    "d_e_w3 = calc_d_e_w(delta_3, x_2)\n",
    "d_e_w2 = calc_d_e_w(delta_2, x_1)\n",
    "d_e_w1 = calc_d_e_w(delta_1, x_0)\n",
    "\n",
    "one_matrix = np.ones((2, 1))\n",
    "\n",
    "d_e_b3 = calc_d_e_b(delta_3)\n",
    "d_e_b2 = calc_d_e_b(delta_2)\n",
    "d_e_b1 = calc_d_e_b(delta_1)\n",
    "\n",
    "bmatrix(d_e_w3, nameof(d_e_w3), exercise=2)\n",
    "bmatrix(d_e_w2, nameof(d_e_w2), exercise=2)\n",
    "bmatrix(d_e_w1, nameof(d_e_w1), exercise=2)\n",
    "bmatrix(d_e_b3, nameof(d_e_b3), exercise=2)\n",
    "bmatrix(d_e_b2, nameof(d_e_b2), exercise=2)\n",
    "bmatrix(d_e_b1, nameof(d_e_b1), exercise=2)\n",
    "bmatrix(one_matrix, nameof(one_matrix), exercise=2)"
   ]
  },
  {
   "cell_type": "code",
   "execution_count": 60,
   "metadata": {},
   "outputs": [],
   "source": [
    "w3_new = update_stuff(w_3, LEARNING_RATE, d_e_w3)\n",
    "w2_new = update_stuff(w_2, LEARNING_RATE, d_e_w2)\n",
    "w1_new = update_stuff(w_1, LEARNING_RATE, d_e_w1)\n",
    "\n",
    "b3_new = update_stuff(b_3, LEARNING_RATE, d_e_b3)\n",
    "b2_new = update_stuff(b_2, LEARNING_RATE, d_e_b2)\n",
    "b1_new = update_stuff(b_1, LEARNING_RATE, d_e_b1)\n",
    "\n",
    "bmatrix(w3_new, nameof(w3_new), exercise=2)\n",
    "bmatrix(w2_new, nameof(w2_new), exercise=2)\n",
    "bmatrix(w1_new, nameof(w1_new), exercise=2)\n",
    "bmatrix(b3_new, nameof(b3_new), exercise=2)\n",
    "bmatrix(b2_new, nameof(b2_new), exercise=2)\n",
    "bmatrix(b1_new, nameof(b1_new), exercise=2)"
   ]
  },
  {
   "cell_type": "markdown",
   "metadata": {},
   "source": [
    "# 3)"
   ]
  },
  {
   "cell_type": "code",
   "execution_count": 61,
   "metadata": {},
   "outputs": [
    {
     "data": {
      "image/png": "[encoded data removed]",
      "text/plain": [
       "<Figure size 640x480 with 1 Axes>"
      ]
     },
     "metadata": {},
     "output_type": "display_data"
    }
   ],
   "source": [
    "import matplotlib.pyplot as plt\n",
    "import seaborn as sns\n",
    "\n",
    "sns.set_style(\"whitegrid\")\n",
    "\n",
    "def softmax(x):\n",
    "    return np.exp(x) / np.sum(np.exp(x), axis=0)\n",
    "\n",
    "# Plot, side by side, both a sigmoid and a softmax function's output\n",
    "\n",
    "x = np.linspace(-5, 5, 50)\n",
    "y = sigmoid(x)\n",
    "z = softmax(x)\n",
    "\n",
    "plt.plot(x, y, label=\"Sigmoid\")\n",
    "plt.plot(x, z, label=\"Softmax\")\n",
    "plt.title(\"Sigmoid vs Softmax, 50 samples between -5 and 5\")\n",
    "plt.savefig(\"assets/sigmoid-softmax.png\")"
   ]
  },
  {
   "cell_type": "code",
   "execution_count": 62,
   "metadata": {},
   "outputs": [],
   "source": [
    "x_3 = softmax(z_3)\n",
    "bmatrix(x_3, nameof(x_3), exercise=3)"
   ]
  },
  {
   "cell_type": "code",
   "execution_count": 63,
   "metadata": {},
   "outputs": [],
   "source": [
    "delta_3 = x_3 - z_0\n",
    "\n",
    "# both delta_2 and 1 are actually squared zero matrices, but since python is amazing\n",
    "# the results are actually things^-18 and such, so yeah\n",
    "zeros_2_2 = np.zeros((2, 2))\n",
    "delta_2 = zeros_2_2\n",
    "delta_1 = zeros_2_2\n",
    "\n",
    "bmatrix(delta_3, nameof(delta_3), exercise=3)\n",
    "bmatrix(delta_2, nameof(delta_2), exercise=3)\n",
    "bmatrix(delta_1, nameof(delta_1), exercise=3)\n",
    "bmatrix(zeros_2_2, nameof(zeros_2_2), exercise=3)"
   ]
  },
  {
   "cell_type": "code",
   "execution_count": 64,
   "metadata": {},
   "outputs": [],
   "source": [
    "d_e_w3 = calc_d_e_w(delta_3, x_2)\n",
    "d_e_b3 = calc_d_e_b(delta_3)\n",
    "\n",
    "one_matrix = np.ones((2, 1))\n",
    "\n",
    "bmatrix(d_e_w3, nameof(d_e_w3), exercise=3)\n",
    "bmatrix(d_e_b3, nameof(d_e_b3), exercise=3)\n",
    "bmatrix(one_matrix, nameof(one_matrix), exercise=3)"
   ]
  },
  {
   "cell_type": "code",
   "execution_count": 65,
   "metadata": {},
   "outputs": [],
   "source": [
    "w3_new = update_stuff(w_3, LEARNING_RATE, d_e_w3)\n",
    "b3_new = update_stuff(b_3, LEARNING_RATE, d_e_b3)\n",
    "\n",
    "bmatrix(w3_new, nameof(w3_new), exercise=3)\n",
    "bmatrix(b3_new, nameof(b3_new), exercise=3)"
   ]
  }
 ],
 "metadata": {
  "kernelspec": {
   "display_name": "Python 3.10.8 64-bit",
   "language": "python",
   "name": "python3"
  },
  "language_info": {
   "codemirror_mode": {
    "name": "ipython",
    "version": 3
   },
   "file_extension": ".py",
   "mimetype": "text/x-python",
   "name": "python",
   "nbconvert_exporter": "python",
   "pygments_lexer": "ipython3",
   "version": "3.10.8"
  },
  "orig_nbformat": 4,
  "vscode": {
   "interpreter": {
    "hash": "e7370f93d1d0cde622a1f8e1c04877d8463912d04d973331ad4851f04de6915a"
   }
  }
 },
 "nbformat": 4,
 "nbformat_minor": 2
}
